{
 "cells": [
  {
   "cell_type": "markdown",
   "metadata": {},
   "source": [
    "# Introduction\n",
    "\n",
    "A potential entry provides metadata information associated with the concept of an interatomic potential, i.e. the functional form. \n",
    "\n",
    "Settable attributes:\n",
    "\n",
    "- __key__ (*str*) A unique identifier for the potential, preferably a UUID4 identifier.  If not given, a new UUID4 will be generated.\n",
    "- __recorddate__ (*str or datetime.date*) The version date to assign to the record as either a datetime.date object or an ISO date string.  If not given, will be set to today.\n",
    "- __dois__ (*str or list*) The dois for any citations associated with the potential.  The first doi value should be for the primary citable paper associated with the potential.\n",
    "- __notes__ (*str*) Any notes/comments about the potential.\n",
    "- __elements__ (*str or list*) The element model symbols associated with the potential.\n",
    "- __fictional__ (*bool*) Indicates if the potentials are 'fictional', i.e. used for parameter/property testing.  Default value is False.\n",
    "- __othername__ (*str*) Allows for an alternate composition/material/description to be used instead of listing the elements.  Useful for a variety of reasons, such as if the potential was designed for a specific compound or is a universal potential for most/all elements.\n",
    "- __modelname__ (*str*) Allows for unique specification of a potential model if potential id would not be unique otherwise.  This is mostly used for alternate parameterizations reported in the same citation or different citations in the same year by the same authors.  Where possible, this should correspond to how the models are reffered to in the associated citation(s), usually 'A', 'B', ... or '1', '2', ... \n",
    "- __developers__ (*str*) List of developers for this potential.  Is used to generate id if no dois and no citations are given.\n",
    "- __year__ (*str*) Year of potential creation.  Is used to generate id if no dois and no citations are given."
   ]
  },
  {
   "cell_type": "code",
   "execution_count": 7,
   "metadata": {},
   "outputs": [],
   "source": [
    "from IPython.core.display import display, HTML\n",
    "from potentials.database import Potential"
   ]
  },
  {
   "cell_type": "markdown",
   "metadata": {},
   "source": [
    "All attributes listed above can be set during object initialization. All attributes can also be assigned to the class after initialization."
   ]
  },
  {
   "cell_type": "code",
   "execution_count": 2,
   "metadata": {},
   "outputs": [
    {
     "name": "stdout",
     "output_type": "stream",
     "text": [
      "bibtex downloaded 10.5555/12345678 from CrossRef\n"
     ]
    }
   ],
   "source": [
    "pot = Potential(\n",
    "    #key = ,\n",
    "    #recorddate = 'YEAR-MO-DY',\n",
    "    dois = '10.5555/12345678',\n",
    "    notes = 'This is a demonstration potential description. NOT REAL!',\n",
    "    elements = ['Al', 'Cu'],\n",
    "    #fictional = True,\n",
    "    #othername = 'Al3Cu',\n",
    "    #modelname = 'A',\n",
    "    #developers = 'P. T. Barnum and J. A. Bailey'\n",
    "    #year = '1881'\n",
    ")"
   ]
  },
  {
   "cell_type": "markdown",
   "metadata": {},
   "source": [
    "### Notes on id\n",
    "\n",
    "A Potential's id is automatically generated based on\n",
    "\n",
    "- Year : Will be set to the first citation's year, or to the potential's creation year if no citations are given.\n",
    "- Names : Will use the first citation's list of authors, or the potential's list of developers if no citations are given.\n",
    "- Elements : Will be a list of the potential's elements, or will be the potential's othername if set.\n",
    "- Fictional : The word 'fictional' will be appended if fictional is set to True.\n",
    "- modelname : If modelname is given, it will be appended to the end of the id for uniqueness."
   ]
  },
  {
   "cell_type": "code",
   "execution_count": 6,
   "metadata": {},
   "outputs": [
    {
     "name": "stdout",
     "output_type": "stream",
     "text": [
      "2008--Carberry-J--Al-Cu\n",
      "\n",
      "Setting fictional=True:\n",
      "2008--Carberry-J--fictional-Al-Cu\n",
      "\n",
      "Setting othername:\n",
      "2008--Carberry-J--fictional-Al3Cu\n",
      "\n",
      "Setting modelname:\n",
      "2008--Carberry-J--fictional-Al3Cu-B\n",
      "\n",
      "Clearing values by setting to False/None:\n",
      "2008--Carberry-J--Al-Cu\n"
     ]
    }
   ],
   "source": [
    "print(pot.id)\n",
    "print()\n",
    "\n",
    "print('Setting fictional=True:')\n",
    "pot.fictional = True\n",
    "print(pot.id)\n",
    "print()\n",
    "\n",
    "print('Setting othername:')\n",
    "pot.othername = 'Al3Cu'\n",
    "print(pot.id)\n",
    "print()\n",
    "\n",
    "print('Setting modelname:')\n",
    "pot.modelname = 'B'\n",
    "print(pot.id)\n",
    "print()\n",
    "\n",
    "print('Clearing values by setting to False/None:')\n",
    "pot.fictional = False\n",
    "pot.othername = None\n",
    "pot.modelname = None\n",
    "print(pot.id)"
   ]
  },
  {
   "cell_type": "markdown",
   "metadata": {},
   "source": [
    "## Content rendering\n",
    "\n",
    "The content can be converted to a number of formats using class methods:\n",
    "\n",
    "- asdict() returns a flat dictionary representation of the class's attributes.\n",
    "- asmodel() returns a tree-like JSON/XML compatible data model representation.\n",
    "- html() returns an html string."
   ]
  },
  {
   "cell_type": "code",
   "execution_count": 3,
   "metadata": {},
   "outputs": [
    {
     "name": "stdout",
     "output_type": "stream",
     "text": [
      "{'key': '4b7cb975-198a-41a6-808a-73a0cc82f653', 'id': '2008--Carberry-J--Al-Cu', 'recorddate': datetime.date(2019, 8, 9), 'dois': ['10.5555/12345678'], 'notes': 'This is a demonstration potential description. NOT REAL!', 'fictional': False, 'elements': ['Al', 'Cu'], 'othername': None, 'modelname': None, 'developers': None, 'year': None}\n"
     ]
    }
   ],
   "source": [
    "print(pot.asdict())"
   ]
  },
  {
   "cell_type": "code",
   "execution_count": 4,
   "metadata": {},
   "outputs": [
    {
     "name": "stdout",
     "output_type": "stream",
     "text": [
      "{\n",
      "    \"interatomic-potential\": {\n",
      "        \"key\": \"4b7cb975-198a-41a6-808a-73a0cc82f653\", \n",
      "        \"id\": \"2008--Carberry-J--Al-Cu\", \n",
      "        \"record-version\": \"2019-08-09\", \n",
      "        \"description\": {\n",
      "            \"citation\": {\n",
      "                \"DOI\": \"10.5555/12345678\"\n",
      "            }, \n",
      "            \"notes\": {\n",
      "                \"text\": \"This is a demonstration potential description. NOT REAL!\"\n",
      "            }\n",
      "        }, \n",
      "        \"element\": [\n",
      "            \"Al\", \n",
      "            \"Cu\"\n",
      "        ]\n",
      "    }\n",
      "}\n"
     ]
    }
   ],
   "source": [
    "print(pot.asmodel().json(indent=4))"
   ]
  },
  {
   "cell_type": "code",
   "execution_count": 5,
   "metadata": {},
   "outputs": [
    {
     "data": {
      "text/html": [
       "<h3>2008--Carberry-J--Al-Cu</h3><b>Citation:</b> J. Carberry (2008), \"Toward a Unified Theory of High-Energy Metaphysics: Silly String Theory\", <i>Journal of Psychoceramics</i>, <b>5(11)</b>, 1--3. DOI: <a href=\"https://doi.org/10.5555/12345678\">10.5555/12345678</a></br>\n",
       "<b>Notes:</b> This is a demonstration potential description. NOT REAL!</br>\n"
      ],
      "text/plain": [
       "<IPython.core.display.HTML object>"
      ]
     },
     "metadata": {},
     "output_type": "display_data"
    }
   ],
   "source": [
    "display(HTML(pot.html()))"
   ]
  },
  {
   "cell_type": "markdown",
   "metadata": {},
   "source": [
    "## Content saving\n",
    "\n",
    "The content can then be locally saved using the save() method"
   ]
  },
  {
   "cell_type": "code",
   "execution_count": null,
   "metadata": {},
   "outputs": [],
   "source": []
  }
 ],
 "metadata": {
  "kernelspec": {
   "display_name": "Python 3",
   "language": "python",
   "name": "python3"
  },
  "language_info": {
   "codemirror_mode": {
    "name": "ipython",
    "version": 3
   },
   "file_extension": ".py",
   "mimetype": "text/x-python",
   "name": "python",
   "nbconvert_exporter": "python",
   "pygments_lexer": "ipython3",
   "version": "3.7.3"
  }
 },
 "nbformat": 4,
 "nbformat_minor": 2
}
