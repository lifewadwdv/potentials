{
 "cells": [
  {
   "cell_type": "markdown",
   "metadata": {},
   "source": [
    "# Introduction\n",
    "\n",
    "A potential entry provides metadata information associated with the concept of an interatomic potential, i.e. the functional form. \n",
    "\n",
    "Settable attributes:\n",
    "\n",
    "- __key__ (*str*) A unique identifier for the potential, preferably a UUID4 identifier.  If not given, a new UUID4 will be generated.\n",
    "- __date__ (*str or datetime.date*) The version date to assign to the record as either a datetime.date object or an ISO date string.  If not given, will be set to today.\n",
    "- __dois__ (*str or list*) The dois for any citations associated with the potential.  The first doi value should be for the primary citable paper associated with the potential.\n",
    "- __notes__ (*str*) Any notes/comments about the potential.\n",
    "- __elements__ (*str or list*) The element model symbols associated with the potential.\n",
    "- __fictional__ (*bool*) Indicates if the potentials are 'fictional', i.e. used for parameter/property testing.  Default value is False.\n",
    "- __othername__ (*str*) Allows for an alternate composition/material/description to be used instead of listing the elements.  Useful for a variety of reasons, such as if the potential was designed for a specific compound or is a universal potential for most/all elements.\n",
    "- __modelname__ (*str*) Allows for unique specification of a potential model if potential id would not be unique otherwise.  This is mostly used for alternate parameterizations reported in the same citation or different citations in the same year by the same authors.  Where possible, this should correspond to how the models are reffered to in the associated citation(s), usually 'A', 'B', ... or '1', '2', ... "
   ]
  },
  {
   "cell_type": "code",
   "execution_count": 1,
   "metadata": {},
   "outputs": [],
   "source": [
    "from potentials.database import Potential"
   ]
  },
  {
   "cell_type": "markdown",
   "metadata": {},
   "source": [
    "All attributes listed above can be set during object initialization."
   ]
  },
  {
   "cell_type": "code",
   "execution_count": 3,
   "metadata": {},
   "outputs": [
    {
     "name": "stdout",
     "output_type": "stream",
     "text": [
      "potential loaded from localdir\n",
      "bibtex loaded from localdir\n"
     ]
    }
   ],
   "source": [
    "pot = Potential.fetch('0f3c1305-2041-401f-9b8e-a200f57fe941')"
   ]
  },
  {
   "cell_type": "code",
   "execution_count": 4,
   "metadata": {},
   "outputs": [
    {
     "data": {
      "text/plain": [
       "datetime.date(2018, 11, 19)"
      ]
     },
     "execution_count": 4,
     "metadata": {},
     "output_type": "execute_result"
    }
   ],
   "source": [
    "pot.date"
   ]
  },
  {
   "cell_type": "code",
   "execution_count": 12,
   "metadata": {},
   "outputs": [],
   "source": [
    "pot = Potential(\n",
    "    #key = ,\n",
    "    #date = 'YEAR-MO-DY',\n",
    "    #dois = '10.1088/0965-0393/3/3/001',\n",
    "    notes = 'This is a demonstration potential description. NOT REAL!',\n",
    "    elements = ['Al', 'Cu'],\n",
    "    #fictional = True,\n",
    "    #othername = 'Al3Cu',\n",
    "    #modelname = 'A',\n",
    ")"
   ]
  },
  {
   "cell_type": "markdown",
   "metadata": {},
   "source": [
    "The model can then be built and viewed with the build method."
   ]
  },
  {
   "cell_type": "code",
   "execution_count": 13,
   "metadata": {},
   "outputs": [
    {
     "name": "stdout",
     "output_type": "stream",
     "text": [
      "{\n",
      "    \"interatomic-potential\": {\n",
      "        \"key\": \"3cccf438-4205-4ddb-b860-d1fbc76f051a\", \n",
      "        \"id\": null, \n",
      "        \"record-version\": \"2019-08-01\", \n",
      "        \"description\": {\n",
      "            \"notes\": {\n",
      "                \"text\": \"This is a demonstration potential description. NOT REAL!\"\n",
      "            }\n",
      "        }, \n",
      "        \"element\": [\n",
      "            \"Al\", \n",
      "            \"Cu\"\n",
      "        ]\n",
      "    }\n",
      "}\n"
     ]
    }
   ],
   "source": [
    "print(pot.build().json(indent=4))"
   ]
  },
  {
   "cell_type": "markdown",
   "metadata": {},
   "source": [
    "Note that id is null.  This happens because the automatic id generation requires a citation. So, let's assign a doi"
   ]
  },
  {
   "cell_type": "code",
   "execution_count": 22,
   "metadata": {},
   "outputs": [
    {
     "name": "stdout",
     "output_type": "stream",
     "text": [
      "bibtex downloaded from CrossRef\n",
      "{\n",
      "    \"interatomic-potential\": {\n",
      "        \"key\": \"3cccf438-4205-4ddb-b860-d1fbc76f051a\", \n",
      "        \"id\": \"2008--Carberry-J--Al-Cu\", \n",
      "        \"record-version\": \"2019-08-01\", \n",
      "        \"description\": {\n",
      "            \"citation\": {\n",
      "                \"DOI\": \"10.5555/12345678\"\n",
      "            }, \n",
      "            \"notes\": {\n",
      "                \"text\": \"This is a demonstration potential description. NOT REAL!\"\n",
      "            }\n",
      "        }, \n",
      "        \"element\": [\n",
      "            \"Al\", \n",
      "            \"Cu\"\n",
      "        ]\n",
      "    }\n",
      "}\n"
     ]
    }
   ],
   "source": [
    "pot.dois = '10.5555/12345678'\n",
    "print(pot.build().json(indent=4))"
   ]
  },
  {
   "cell_type": "markdown",
   "metadata": {},
   "source": [
    "Changing fictional, othername, and modelname terms will also alter the id"
   ]
  },
  {
   "cell_type": "code",
   "execution_count": 21,
   "metadata": {},
   "outputs": [
    {
     "name": "stdout",
     "output_type": "stream",
     "text": [
      "1995--Angelo-J-E-Moody-N-R-Baskes-M-I--Al-Cu\n",
      "\n",
      "Setting fictional=True:\n",
      "1995--Angelo-J-E-Moody-N-R-Baskes-M-I--fictional-Al-Cu\n",
      "\n",
      "Setting othername:\n",
      "1995--Angelo-J-E-Moody-N-R-Baskes-M-I--fictional-Al3Cu\n",
      "\n",
      "Setting modelname:\n",
      "1995--Angelo-J-E-Moody-N-R-Baskes-M-I--fictional-Al3Cu-B\n",
      "\n",
      "Clearing values by setting to False/None:\n",
      "1995--Angelo-J-E-Moody-N-R-Baskes-M-I--Al-Cu\n"
     ]
    }
   ],
   "source": [
    "print(pot.id)\n",
    "print()\n",
    "\n",
    "print('Setting fictional=True:')\n",
    "pot.fictional = True\n",
    "print(pot.id)\n",
    "print()\n",
    "\n",
    "print('Setting othername:')\n",
    "pot.othername = 'Al3Cu'\n",
    "print(pot.id)\n",
    "print()\n",
    "\n",
    "print('Setting modelname:')\n",
    "pot.modelname = 'B'\n",
    "print(pot.id)\n",
    "print()\n",
    "\n",
    "print('Clearing values by setting to False/None:')\n",
    "pot.fictional = False\n",
    "pot.othername = None\n",
    "pot.modelname = None\n",
    "print(pot.id)"
   ]
  },
  {
   "cell_type": "code",
   "execution_count": 16,
   "metadata": {},
   "outputs": [
    {
     "name": "stdout",
     "output_type": "stream",
     "text": [
      "{\n",
      "    \"interatomic-potential\": {\n",
      "        \"key\": \"3cccf438-4205-4ddb-b860-d1fbc76f051a\", \n",
      "        \"id\": \"1995--Angelo-J-E-Moody-N-R-Baskes-M-I--fictional-Al3Cu-B\", \n",
      "        \"record-version\": \"2019-08-01\", \n",
      "        \"description\": {\n",
      "            \"citation\": {\n",
      "                \"DOI\": \"10.1088/0965-0393/3/3/001\"\n",
      "            }, \n",
      "            \"notes\": {\n",
      "                \"text\": \"This is a demonstration potential description. NOT REAL!\"\n",
      "            }\n",
      "        }, \n",
      "        \"fictional-element\": [\n",
      "            \"Al\", \n",
      "            \"Cu\"\n",
      "        ], \n",
      "        \"other-element\": \"Al3Cu\"\n",
      "    }\n",
      "}\n"
     ]
    }
   ],
   "source": [
    "print(pot.build().json(indent=4))"
   ]
  },
  {
   "cell_type": "code",
   "execution_count": null,
   "metadata": {},
   "outputs": [],
   "source": []
  }
 ],
 "metadata": {
  "kernelspec": {
   "display_name": "Python 3",
   "language": "python",
   "name": "python3"
  },
  "language_info": {
   "codemirror_mode": {
    "name": "ipython",
    "version": 3
   },
   "file_extension": ".py",
   "mimetype": "text/x-python",
   "name": "python",
   "nbconvert_exporter": "python",
   "pygments_lexer": "ipython3",
   "version": "3.7.3"
  }
 },
 "nbformat": 4,
 "nbformat_minor": 2
}
