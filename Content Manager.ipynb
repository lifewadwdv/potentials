{
 "cells": [
  {
   "cell_type": "markdown",
   "metadata": {},
   "source": [
    "# Interatomic Potential Repository Content Manager\n",
    "\n",
    "This Notebook is a single location for adding and modifying content in the potentials.nist.gov database.\n",
    "\n",
    "NOTE: Only authorized users with accounts can add/modify the database records."
   ]
  },
  {
   "cell_type": "markdown",
   "metadata": {},
   "source": [
    "### Library imports"
   ]
  },
  {
   "cell_type": "code",
   "execution_count": 1,
   "metadata": {},
   "outputs": [],
   "source": [
    "import uuid\n",
    "import datetime\n",
    "import shutil\n",
    "from pathlib import Path\n",
    "\n",
    "import potentials\n",
    "\n",
    "import numpy as np\n",
    "\n",
    "# Jupyter display libraries\n",
    "from IPython.core.display import display, HTML"
   ]
  },
  {
   "cell_type": "markdown",
   "metadata": {},
   "source": [
    "### Global parameters"
   ]
  },
  {
   "cell_type": "code",
   "execution_count": 2,
   "metadata": {},
   "outputs": [],
   "source": [
    "complete_potentials = []"
   ]
  },
  {
   "cell_type": "code",
   "execution_count": 3,
   "metadata": {},
   "outputs": [
    {
     "name": "stdout",
     "output_type": "stream",
     "text": [
      "Enter password for lmh1 @ https://potentials.nist.gov:········\n"
     ]
    }
   ],
   "source": [
    "db = potentials.Database(username='lmh1')"
   ]
  },
  {
   "cell_type": "markdown",
   "metadata": {},
   "source": [
    "- - -\n",
    "\n",
    "## 1. Citations"
   ]
  },
  {
   "cell_type": "code",
   "execution_count": 12,
   "metadata": {},
   "outputs": [
    {
     "name": "stdout",
     "output_type": "stream",
     "text": [
      "Loaded 274 remote citations\n"
     ]
    }
   ],
   "source": [
    "db.load_citations(verbose=True)"
   ]
  },
  {
   "cell_type": "markdown",
   "metadata": {},
   "source": [
    "### 1.1 Build or load citation"
   ]
  },
  {
   "cell_type": "markdown",
   "metadata": {},
   "source": [
    "#### 1.1.1 For existing citations and/or new dois"
   ]
  },
  {
   "cell_type": "code",
   "execution_count": 15,
   "metadata": {},
   "outputs": [
    {
     "name": "stdout",
     "output_type": "stream",
     "text": [
      "Citation retrieved from loaded citations\n"
     ]
    }
   ],
   "source": [
    "doi = '10.1021/jp805227c'\n",
    "\n",
    "citation = db.get_citation(doi, verbose=True)"
   ]
  },
  {
   "cell_type": "markdown",
   "metadata": {},
   "source": [
    "#### 1.1.2 For new doi-less citations"
   ]
  },
  {
   "cell_type": "code",
   "execution_count": 5,
   "metadata": {},
   "outputs": [],
   "source": [
    "author = 'Bob Test'\n",
    "year = 2099\n",
    "ID = note = f'{year}--Test-L-M'\n",
    "\n",
    "citation = potentials.Citation(ENTRYTYPE = 'unpublished',\n",
    "                               title = 'to be published',\n",
    "                               author = author,\n",
    "                               ID = ID,\n",
    "                               note = note,\n",
    "                               year = year)"
   ]
  },
  {
   "cell_type": "markdown",
   "metadata": {},
   "source": [
    "### 1.2 Investigate and modify"
   ]
  },
  {
   "cell_type": "markdown",
   "metadata": {},
   "source": [
    "#### 1.2.1 Generate html and list content fields"
   ]
  },
  {
   "cell_type": "code",
   "execution_count": 18,
   "metadata": {},
   "outputs": [
    {
     "data": {
      "text/html": [
       "V. Molinero and E.B. Moore (2009), \"Water Modeled As an Intermediate Element between Carbon and Silicon\", <i>The Journal of Physical Chemistry B</i>, <b>113(13)</b>, 4008--4016. DOI: <a href=\"https://doi.org/10.1021/jp805227c\">10.1021/jp805227c</a><br/><b>Abstract:</b> Water and silicon are chemically dissimilar substances with common physical properties. Their liquids display a temperature of maximum density, increased diffusivity on compression, and they form tetrahedral crystals and tetrahedral amorphous phases. The common feature to water, silicon, and carbon is the formation of tetrahedrally coordinated units. We exploit these similarities to develop a coarse-grained model of water (mW) that is essentially an atom with tetrahedrality intermediate between carbon and silicon. mW mimics the hydrogen-bonded structure of water through the introduction of a nonbond angular dependent term that encourages tetrahedral configurations. The model departs from the prevailing paradigm in water modeling: the use of long-ranged forces (electrostatics) to produce short-ranged (hydrogen-bonded) structure. mW has only short-range interactions yet it reproduces the energetics, density and structure of liquid water, and its anomalies and phase transitions with comparable or better accuracy than the most popular atomistic models of water, at less than 1% of the computational cost. We conclude that it is not the nature of the interactions but the connectivity of the molecules that determines the structural and thermodynamic behavior of water. The speedup in computing time provided by mW makes it particularly useful for the study of slow processes in deeply supercooled water, the mechanism of ice nucleation, wetting-drying transitions, and as a realistic water model for coarse-grained simulations of biomolecules and complex materials."
      ],
      "text/plain": [
       "<IPython.core.display.HTML object>"
      ]
     },
     "metadata": {},
     "output_type": "display_data"
    },
    {
     "name": "stdout",
     "output_type": "stream",
     "text": [
      "\n",
      "ENTRYTYPE: article\n",
      "ID: Molinero_2009\n",
      "abstract: Water and silicon are chemically dissimilar substances with common physical properties. Their liquids display a temperature of maximum density, increased diffusivity on compression, and they form tetrahedral crystals and tetrahedral amorphous phases. The common feature to water, silicon, and carbon is the formation of tetrahedrally coordinated units. We exploit these similarities to develop a coarse-grained model of water (mW) that is essentially an atom with tetrahedrality intermediate between carbon and silicon. mW mimics the hydrogen-bonded structure of water through the introduction of a nonbond angular dependent term that encourages tetrahedral configurations. The model departs from the prevailing paradigm in water modeling: the use of long-ranged forces (electrostatics) to produce short-ranged (hydrogen-bonded) structure. mW has only short-range interactions yet it reproduces the energetics, density and structure of liquid water, and its anomalies and phase transitions with comparable or better accuracy than the most popular atomistic models of water, at less than 1% of the computational cost. We conclude that it is not the nature of the interactions but the connectivity of the molecules that determines the structural and thermodynamic behavior of water. The speedup in computing time provided by mW makes it particularly useful for the study of slow processes in deeply supercooled water, the mechanism of ice nucleation, wetting-drying transitions, and as a realistic water model for coarse-grained simulations of biomolecules and complex materials.\n",
      "author: Valeria Molinero and Emily B. Moore\n",
      "doi: 10.1021/jp805227c\n",
      "journal: The Journal of Physical Chemistry B\n",
      "month: apr\n",
      "number: 13\n",
      "pages: 4008--4016\n",
      "publisher: American Chemical Society (ACS)\n",
      "title: Water Modeled As an Intermediate Element between Carbon and Silicon\n",
      "url: https://doi.org/10.1021%2Fjp805227c\n",
      "volume: 113\n",
      "year: 2009\n"
     ]
    }
   ],
   "source": [
    "display(HTML(citation.html()))\n",
    "print()\n",
    "for key, value in citation.asdict().items():\n",
    "    print(key+':', value)"
   ]
  },
  {
   "cell_type": "markdown",
   "metadata": {},
   "source": [
    "#### 1.2.2 Modify and update fields"
   ]
  },
  {
   "cell_type": "code",
   "execution_count": 17,
   "metadata": {},
   "outputs": [],
   "source": [
    "#citation.abstract = ' '.join(['We have done molecular-dynamics simulations of Fe<sub>1−x</sub>Ni<sub>x</sub> employing',\n",
    "#                              'a semiempirical model. We present a phase diagram of the martensite-austenite transition',\n",
    "#                              'temperatures as a function of the Ni concentration which is in good agreement with',\n",
    "#                              'experimental observations. In addition to this we have calculated the phonon dispersion',\n",
    "#                              'curves of Fe and Ni from the model. Results show that the vibrational properties of the',\n",
    "#                              'metals are well reproduced by the embedded-atom-method potentials. Finally, we have derived',\n",
    "#                              'the phonon dispersion relations of bcc Fe<sub>80</sub>Ni<sub>20</sub>. We find rather low',\n",
    "#                              'energies of the [110]−TA<sub>1</sub> phonons with a strong temperature dependence which we',\n",
    "#                              'attribute to instabilities of Ni in the bcc phase. We do not find any indications of a soft',\n",
    "#                              'mode at the martensite-austenite transition in Fe<sub>1−x</sub>Ni<sub>x</sub>.'])\n",
    "#citation.author\n",
    "#citation.volume\n",
    "#citation.number\n",
    "citation.title = 'Water Modeled As an Intermediate Element between Carbon and Silicon'\n",
    "#citation.year\n",
    "#citation.pages"
   ]
  },
  {
   "cell_type": "markdown",
   "metadata": {},
   "source": [
    "#### 1.2.3 Save"
   ]
  },
  {
   "cell_type": "code",
   "execution_count": 19,
   "metadata": {},
   "outputs": [
    {
     "name": "stdout",
     "output_type": "stream",
     "text": [
      "record 10.1021_jp805227c (5e1dda86ab2f7c00263cf73c) has been updated.\n",
      "Citation updated in database\n"
     ]
    }
   ],
   "source": [
    "db.save_citation(citation, verbose=True)"
   ]
  },
  {
   "cell_type": "markdown",
   "metadata": {},
   "source": [
    "- - -\n",
    "\n",
    "## 2. Potentials"
   ]
  },
  {
   "cell_type": "code",
   "execution_count": 4,
   "metadata": {},
   "outputs": [
    {
     "name": "stdout",
     "output_type": "stream",
     "text": [
      "Loaded 275 remote potentials\n"
     ]
    }
   ],
   "source": [
    "db.load_potentials(verbose=True)"
   ]
  },
  {
   "cell_type": "markdown",
   "metadata": {},
   "source": [
    "### 2.1 Build or load potential"
   ]
  },
  {
   "cell_type": "markdown",
   "metadata": {},
   "source": [
    "#### 2.1.1 Build new potential"
   ]
  },
  {
   "cell_type": "code",
   "execution_count": 83,
   "metadata": {},
   "outputs": [],
   "source": [
    "potential = potentials.Potential(\n",
    "    elements=['Fe'],\n",
    "    #key=None,\n",
    "    #othername='water',\n",
    "    #fictional=False,\n",
    "    #modelname=None,\n",
    "    #notes=None,\n",
    "    #recorddate=datetime.date(2020,\n",
    "    citations=[citation])"
   ]
  },
  {
   "cell_type": "markdown",
   "metadata": {},
   "source": [
    "#### 2.1.2 Load existing potential"
   ]
  },
  {
   "cell_type": "code",
   "execution_count": 14,
   "metadata": {},
   "outputs": [],
   "source": [
    "potential = db.get_potential(id='2009--Molinero-V-Moore-E-B--water')"
   ]
  },
  {
   "cell_type": "markdown",
   "metadata": {},
   "source": [
    "### 2.2 Investigate and modify"
   ]
  },
  {
   "cell_type": "markdown",
   "metadata": {},
   "source": [
    "#### 2.2.1 Generate html and list content fields"
   ]
  },
  {
   "cell_type": "code",
   "execution_count": 15,
   "metadata": {},
   "outputs": [
    {
     "data": {
      "text/html": [
       "<h3>2009--Molinero-V-Moore-E-B--water</h3><b>Citation:</b> V. Molinero and E.B. Moore (2009), \"Water Modeled As an Intermediate Element between Carbon and Silicon\", <i>The Journal of Physical Chemistry B</i>, <b>113(13)</b>, 4008--4016. DOI: <a href=\"https://doi.org/10.1021/jp805227c\">10.1021/jp805227c</a><br/><b>Abstract:</b> Water and silicon are chemically dissimilar substances with common physical properties. Their liquids display a temperature of maximum density, increased diffusivity on compression, and they form tetrahedral crystals and tetrahedral amorphous phases. The common feature to water, silicon, and carbon is the formation of tetrahedrally coordinated units. We exploit these similarities to develop a coarse-grained model of water (mW) that is essentially an atom with tetrahedrality intermediate between carbon and silicon. mW mimics the hydrogen-bonded structure of water through the introduction of a nonbond angular dependent term that encourages tetrahedral configurations. The model departs from the prevailing paradigm in water modeling: the use of long-ranged forces (electrostatics) to produce short-ranged (hydrogen-bonded) structure. mW has only short-range interactions yet it reproduces the energetics, density and structure of liquid water, and its anomalies and phase transitions with comparable or better accuracy than the most popular atomistic models of water, at less than 1% of the computational cost. We conclude that it is not the nature of the interactions but the connectivity of the molecules that determines the structural and thermodynamic behavior of water. The speedup in computing time provided by mW makes it particularly useful for the study of slow processes in deeply supercooled water, the mechanism of ice nucleation, wetting-drying transitions, and as a realistic water model for coarse-grained simulations of biomolecules and complex materials.</br>\n",
       "<b>Notes:</b> This potential defines a coarse-grained model of water \"mW\", where each particle represents a single water molecule.</br>\n",
       "</br><b>LAMMPS pair_style sw</b> (2009--Molinero-V--water--ipr-1)<br/>\n",
       "<b>Notes:</b> The parameter file mW.sw was provided by Rodrigo Freitas (Standford) on Jan 10, 2020. main.pdf contains computed properties and references that show this LAMMPS implementation to give predictions consistent with what is reported in the original paper.</br>\n",
       "<b>Files:</b><br/>\n",
       "<a href=\"https://www.ctcms.nist.gov/potentials/Download/2009--Molinero-V-Moore-E-B--water/1/mW.sw\">mW.sw</a><br/>\n",
       "<a href=\"https://www.ctcms.nist.gov/potentials/Download/2009--Molinero-V-Moore-E-B--water/1/main.pdf\">main.pdf</a><br/>\n"
      ],
      "text/plain": [
       "<IPython.core.display.HTML object>"
      ]
     },
     "metadata": {},
     "output_type": "display_data"
    },
    {
     "name": "stdout",
     "output_type": "stream",
     "text": [
      "\n",
      "key: d60f3a2b-2274-4763-8ace-57f8e69dd244\n",
      "id: 2009--Molinero-V-Moore-E-B--water\n",
      "recorddate: 2020-01-14\n",
      "notes: This potential defines a coarse-grained model of water \"mW\", where each particle represents a single water molecule.\n",
      "fictional: False\n",
      "elements: ['H', 'O']\n",
      "othername: water\n",
      "modelname: None\n",
      "citations: [<potentials.Citation.Citation object at 0x0000028DDF387688>]\n",
      "implementations: [<potentials.Implementation.Implementation object at 0x0000028DDF269188>]\n"
     ]
    }
   ],
   "source": [
    "display(HTML(potential.html()))\n",
    "print()\n",
    "for key, value in potential.asdict().items():\n",
    "    print(key+':', value)"
   ]
  },
  {
   "cell_type": "markdown",
   "metadata": {},
   "source": [
    "#### 2.2.2 Modify and update fields"
   ]
  },
  {
   "cell_type": "code",
   "execution_count": 22,
   "metadata": {},
   "outputs": [],
   "source": [
    "#potential.key = \n",
    "#potential.recorddate = datetime.date()\n",
    "#potential.elements = []\n",
    "potential.othername = 'water'\n",
    "#potential.fictional = \n",
    "#potential.modelname = "
   ]
  },
  {
   "cell_type": "code",
   "execution_count": 28,
   "metadata": {},
   "outputs": [],
   "source": [
    "potential.notes = 'This potential defines a coarse-grained model of water \"mW\", where each particle represents a single water molecule.'"
   ]
  },
  {
   "cell_type": "code",
   "execution_count": null,
   "metadata": {},
   "outputs": [],
   "source": [
    "#potential.notes += "
   ]
  },
  {
   "cell_type": "code",
   "execution_count": 23,
   "metadata": {},
   "outputs": [],
   "source": [
    "potential.citations[0] = citation"
   ]
  },
  {
   "cell_type": "markdown",
   "metadata": {},
   "source": [
    "## 3. Implementations"
   ]
  },
  {
   "cell_type": "markdown",
   "metadata": {},
   "source": [
    "### 3.1 List all current implementation styles"
   ]
  },
  {
   "cell_type": "code",
   "execution_count": 85,
   "metadata": {},
   "outputs": [
    {
     "name": "stdout",
     "output_type": "stream",
     "text": [
      "All existing implementation types:\n",
      "    ADP tabulated functions\n",
      "    Dynamo MEAM\n",
      "    EAM setfl\n",
      "    EAM tabulated functions\n",
      "    Equations\n",
      "    FORTRAN\n",
      "    Finnis-Sinclair tables\n",
      "    GULP\n",
      "    IMD option EAM\n",
      "    LAMMPS pair_style adp\n",
      "    LAMMPS pair_style agni\n",
      "    LAMMPS pair_style bop\n",
      "    LAMMPS pair_style comb3\n",
      "    LAMMPS pair_style eam\n",
      "    LAMMPS pair_style eam/alloy\n",
      "    LAMMPS pair_style eam/cd\n",
      "    LAMMPS pair_style eam/fs\n",
      "    LAMMPS pair_style edip\n",
      "    LAMMPS pair_style edip/multi\n",
      "    LAMMPS pair_style eim\n",
      "    LAMMPS pair_style extep\n",
      "    LAMMPS pair_style hybrid/overlay eam/alloy eam/fs\n",
      "    LAMMPS pair_style hybrid/overlay zbl eam/alloy\n",
      "    LAMMPS pair_style hybrid/overlay zbl snap\n",
      "    LAMMPS pair_style lcbop\n",
      "    LAMMPS pair_style meam\n",
      "    LAMMPS pair_style meam (modified)\n",
      "    LAMMPS pair_style meam/spline\n",
      "    LAMMPS pair_style polymorphic\n",
      "    LAMMPS pair_style sw\n",
      "    LAMMPS pair_style tersoff\n",
      "    LAMMPS pair_style tersoff/mod\n",
      "    LAMMPS pair_style tersoff/mod/c\n",
      "    LAMMPS pair_style tersoff/zbl\n",
      "    LAMMPS pair_style vashishta\n",
      "    MEAM parameters\n",
      "    MEAM splines\n",
      "    Moldy FS\n",
      "    MoldyPSI\n",
      "    OpenKIM\n",
      "    ReaxFF\n",
      "    SPaSM\n"
     ]
    }
   ],
   "source": [
    "imptypes = []\n",
    "for pot in db.potentials:\n",
    "    for imp in pot.implementations:\n",
    "        imptypes.append(imp.type)\n",
    "imptypes = np.unique(imptypes)\n",
    "\n",
    "print('All existing implementation types:')\n",
    "for imptypes in imptypes:\n",
    "    print('   ', imptypes)"
   ]
  },
  {
   "cell_type": "markdown",
   "metadata": {},
   "source": [
    "### 3.2 Build or load implementation"
   ]
  },
  {
   "cell_type": "markdown",
   "metadata": {},
   "source": [
    "#### 3.2.1 List ids for current potential and implementations"
   ]
  },
  {
   "cell_type": "code",
   "execution_count": 8,
   "metadata": {},
   "outputs": [
    {
     "name": "stdout",
     "output_type": "stream",
     "text": [
      "potential id: 1998--Meyer-R-Entel-P--Fe\n",
      "implementation ids:\n",
      "0: 1998--Meyer-R--Fe--ipr-1\n"
     ]
    }
   ],
   "source": [
    "print('potential id:', potential.id)\n",
    "print('implementation ids:')\n",
    "for i, implementation in enumerate(potential.implementations):\n",
    "    print(f'{i}: {implementation.id}')"
   ]
  },
  {
   "cell_type": "markdown",
   "metadata": {},
   "source": [
    "#### 3.2.2 Build new implementation"
   ]
  },
  {
   "cell_type": "code",
   "execution_count": 139,
   "metadata": {},
   "outputs": [],
   "source": [
    "implementation = potentials.Implementation(\n",
    "    type='LAMMPS pair_style bop',\n",
    "    #key=None,\n",
    "    id='2016--Zhou-X-W--Al-Cu--LAMMPS--ipr2',\n",
    "    #status=None,\n",
    "    date=datetime.date(2019, 12, 19), \n",
    "    notes=' '.join(['This file was provided by Xiaowang Zhou (Sandia) on Dec 19, 2019. Unlike the eariler implementation',\n",
    "                    'above, this file is complete and should work with any version of LAMMPS that supports the bop pair style.'])\n",
    ")\n",
    "index = len(potential.implementations)\n",
    "potential.implementations.append(implementation)"
   ]
  },
  {
   "cell_type": "code",
   "execution_count": 121,
   "metadata": {},
   "outputs": [],
   "source": [
    "del potential.implementations[1]"
   ]
  },
  {
   "cell_type": "markdown",
   "metadata": {},
   "source": [
    "#### 3.2.3 Select existing implementation"
   ]
  },
  {
   "cell_type": "code",
   "execution_count": 16,
   "metadata": {},
   "outputs": [],
   "source": [
    "index = 0\n",
    "implementation = potential.implementations[index]"
   ]
  },
  {
   "cell_type": "markdown",
   "metadata": {},
   "source": [
    "### 3.3 Modify implementation"
   ]
  },
  {
   "cell_type": "code",
   "execution_count": 31,
   "metadata": {},
   "outputs": [
    {
     "data": {
      "text/html": [
       "<b>LAMMPS pair_style eam/alloy</b> (1998--Meyer-R--Fe--ipr-1)<br/>\n",
       "<b>Notes:</b> This file was provided by Rodrigo Freitas (Standford) on Jan 10, 2020. It was used for the publication R. Freitas, M. Asta and M. de Koning (2016) <i>Computational Materials Science</i>, <b>112</b>, 333-341. DOI: <a href=\"https://doi.org/10.1016/j.commatsci.2015.10.050\">10.1016/j.commatsci.2015.10.050</a>.</br>\n"
      ],
      "text/plain": [
       "<IPython.core.display.HTML object>"
      ]
     },
     "metadata": {},
     "output_type": "display_data"
    }
   ],
   "source": [
    "display(HTML(implementation.html()))"
   ]
  },
  {
   "cell_type": "code",
   "execution_count": 8,
   "metadata": {},
   "outputs": [],
   "source": [
    "#implementation.type='LAMMPS pair_style sw',\n",
    "#implementation.key=None,\n",
    "#implementation.id='2009--Molinero-V--water--ipr-1',\n",
    "#implementation.status=None,\n",
    "#implementation.date=datetime.date(2020, 1, 10), \n",
    "implementation.notes= ' '.join(['The parameter file mW.sw was provided by Rodrigo Freitas (Standford) on Jan 10, 2020.',\n",
    "                                'main.pdf contains computed properties and references that show this LAMMPS implementation',\n",
    "                                'to give predictions consistent with what is reported in the original paper.',\n",
    "                                ])"
   ]
  },
  {
   "cell_type": "code",
   "execution_count": 17,
   "metadata": {},
   "outputs": [
    {
     "data": {
      "text/plain": [
       "'The parameter file mW.sw was provided by Rodrigo Freitas (Standford) on Jan 10, 2020. main.pdf contains computed properties and references that show this LAMMPS implementation to give predictions consistent with what is reported in the original paper.'"
      ]
     },
     "execution_count": 17,
     "metadata": {},
     "output_type": "execute_result"
    }
   ],
   "source": [
    "implementation.notes"
   ]
  },
  {
   "cell_type": "code",
   "execution_count": 18,
   "metadata": {},
   "outputs": [],
   "source": [
    "implementation.notes = 'The parameter file mW.sw was provided by Rodrigo Freitas (Stanford) on Jan 10, 2020. main.pdf contains computed properties and references that show this LAMMPS implementation to give predictions consistent with what is reported in the original paper.'"
   ]
  },
  {
   "cell_type": "code",
   "execution_count": 135,
   "metadata": {},
   "outputs": [],
   "source": [
    "implementation.notes += ' Update Jan 15, 2020: It was noticed that the original file hosted here was truncated and incomplete.'\n",
    "implementation.notes += ' The incomplete file will not work with LAMMPS versions after 7 Aug 2019.'\n",
    "implementation.notes += ' For earlier LAMMPS versions, both versions of the parameter file appear to behave identically.'"
   ]
  },
  {
   "cell_type": "code",
   "execution_count": 137,
   "metadata": {},
   "outputs": [],
   "source": [
    "implementation.status = 'superseded'"
   ]
  },
  {
   "cell_type": "markdown",
   "metadata": {},
   "source": [
    "#### 3.3.1 Add artifacts"
   ]
  },
  {
   "cell_type": "code",
   "execution_count": 32,
   "metadata": {},
   "outputs": [],
   "source": [
    "# Define paths to files\n",
    "newpotpath = Path('C:/Users/lmh1/Documents/website/new potentials')\n",
    "webpath = 'https://www.ctcms.nist.gov/potentials/'\n",
    "localpath = Path('C:/Users/lmh1/Documents/website/IPR-website/potentials/')\n",
    "relpath = f'Download/{potential.id}/{index+1}/'"
   ]
  },
  {
   "cell_type": "code",
   "execution_count": 33,
   "metadata": {},
   "outputs": [],
   "source": [
    "# Specify files from newpotpath to add\n",
    "filenames = [\n",
    "    Path(newpotpath, 'Fe_MeyerEntel.eam'),\n",
    "    #Path(newpotpath, 'main.pdf')\n",
    "    ]\n",
    "\n",
    "labels = [None for i in range(len(filenames))]"
   ]
  },
  {
   "cell_type": "code",
   "execution_count": 34,
   "metadata": {},
   "outputs": [
    {
     "name": "stdout",
     "output_type": "stream",
     "text": [
      "C:\\Users\\lmh1\\Documents\\website\\IPR-website\\potentials\\Download\\1998--Meyer-R-Entel-P--Fe\\1\\Fe_MeyerEntel.eam\n"
     ]
    }
   ],
   "source": [
    "# Make download directory in local copy of website\n",
    "downloadpath = Path(localpath, relpath)\n",
    "if not downloadpath.is_dir():\n",
    "    downloadpath.mkdir(parents=True)\n",
    "\n",
    "# Copy files and add artifact listings\n",
    "for filename, label in zip(filenames, labels):\n",
    "    # Build url\n",
    "    url = webpath + relpath + filename.name\n",
    "    # Copy files\n",
    "    shutil.copy(filename, downloadpath)\n",
    "    print(Path(downloadpath, filename.name))\n",
    "    \n",
    "    # Add artifact listing to implementation\n",
    "    implementation.add_artifact(filename=filename.name, url=url, label=label)"
   ]
  },
  {
   "cell_type": "markdown",
   "metadata": {},
   "source": [
    "#### 3.3.2 Add parameters"
   ]
  },
  {
   "cell_type": "code",
   "execution_count": null,
   "metadata": {},
   "outputs": [],
   "source": []
  },
  {
   "cell_type": "markdown",
   "metadata": {},
   "source": [
    "#### 3.3.3 Add weblinks"
   ]
  },
  {
   "cell_type": "code",
   "execution_count": null,
   "metadata": {},
   "outputs": [],
   "source": []
  },
  {
   "cell_type": "markdown",
   "metadata": {},
   "source": [
    "### 3.4 Review and save"
   ]
  },
  {
   "cell_type": "code",
   "execution_count": 19,
   "metadata": {},
   "outputs": [
    {
     "data": {
      "text/html": [
       "<h3>2009--Molinero-V-Moore-E-B--water</h3><b>Citation:</b> V. Molinero and E.B. Moore (2009), \"Water Modeled As an Intermediate Element between Carbon and Silicon\", <i>The Journal of Physical Chemistry B</i>, <b>113(13)</b>, 4008--4016. DOI: <a href=\"https://doi.org/10.1021/jp805227c\">10.1021/jp805227c</a><br/><b>Abstract:</b> Water and silicon are chemically dissimilar substances with common physical properties. Their liquids display a temperature of maximum density, increased diffusivity on compression, and they form tetrahedral crystals and tetrahedral amorphous phases. The common feature to water, silicon, and carbon is the formation of tetrahedrally coordinated units. We exploit these similarities to develop a coarse-grained model of water (mW) that is essentially an atom with tetrahedrality intermediate between carbon and silicon. mW mimics the hydrogen-bonded structure of water through the introduction of a nonbond angular dependent term that encourages tetrahedral configurations. The model departs from the prevailing paradigm in water modeling: the use of long-ranged forces (electrostatics) to produce short-ranged (hydrogen-bonded) structure. mW has only short-range interactions yet it reproduces the energetics, density and structure of liquid water, and its anomalies and phase transitions with comparable or better accuracy than the most popular atomistic models of water, at less than 1% of the computational cost. We conclude that it is not the nature of the interactions but the connectivity of the molecules that determines the structural and thermodynamic behavior of water. The speedup in computing time provided by mW makes it particularly useful for the study of slow processes in deeply supercooled water, the mechanism of ice nucleation, wetting-drying transitions, and as a realistic water model for coarse-grained simulations of biomolecules and complex materials.</br>\n",
       "<b>Notes:</b> This potential defines a coarse-grained model of water \"mW\", where each particle represents a single water molecule.</br>\n",
       "</br><b>LAMMPS pair_style sw</b> (2009--Molinero-V--water--ipr-1)<br/>\n",
       "<b>Notes:</b> The parameter file mW.sw was provided by Rodrigo Freitas (Stanford) on Jan 10, 2020. main.pdf contains computed properties and references that show this LAMMPS implementation to give predictions consistent with what is reported in the original paper.</br>\n",
       "<b>Files:</b><br/>\n",
       "<a href=\"https://www.ctcms.nist.gov/potentials/Download/2009--Molinero-V-Moore-E-B--water/1/mW.sw\">mW.sw</a><br/>\n",
       "<a href=\"https://www.ctcms.nist.gov/potentials/Download/2009--Molinero-V-Moore-E-B--water/1/main.pdf\">main.pdf</a><br/>\n"
      ],
      "text/plain": [
       "<IPython.core.display.HTML object>"
      ]
     },
     "metadata": {},
     "output_type": "display_data"
    }
   ],
   "source": [
    "display(HTML(potential.html()))"
   ]
  },
  {
   "cell_type": "code",
   "execution_count": 20,
   "metadata": {},
   "outputs": [
    {
     "name": "stdout",
     "output_type": "stream",
     "text": [
      "record potential.2009--Molinero-V-Moore-E-B--water (5e1e2017ab2f7c002d3cf3a1) has been updated.\n"
     ]
    }
   ],
   "source": [
    "title = 'potential.' + potential.id\n",
    "content = potential.asmodel().xml()\n",
    "template = 'Potential'\n",
    "try:\n",
    "    db.cdcs.upload_record(content=content, template=template, title=title)\n",
    "except:\n",
    "    db.cdcs.update_record(content=content, template=template, title=title)\n",
    "complete_potentials.append(potential)"
   ]
  },
  {
   "cell_type": "markdown",
   "metadata": {},
   "source": [
    "## 4. potential_LAMMPS"
   ]
  },
  {
   "cell_type": "code",
   "execution_count": 53,
   "metadata": {},
   "outputs": [],
   "source": [
    "import iprbuild\n",
    "import iprPy"
   ]
  },
  {
   "cell_type": "code",
   "execution_count": 146,
   "metadata": {},
   "outputs": [],
   "source": [
    "kwargs = {}\n",
    "kwargs['id'] = implementation.id\n",
    "kwargs['key'] = implementation.key\n",
    "kwargs['pot_id'] = potential.id\n",
    "kwargs['pot_key'] = potential.key\n",
    "kwargs['elements'] = potential.elements"
   ]
  },
  {
   "cell_type": "code",
   "execution_count": 147,
   "metadata": {},
   "outputs": [],
   "source": [
    "kwargs['pair_style'] = 'bop'\n",
    "#kwargs['pair_style_terms'] = ['polar_off']\n",
    "kwargs['paramfile'] = 'AlCu.bop.table'\n",
    "#kwargs['units'] =\n",
    "#kwargs['atom_style'] = 'charge'\n",
    "kwargs['masses'] = [26.98, 63.55]\n",
    "#kwargs['symbols'] = 'mW'"
   ]
  },
  {
   "cell_type": "code",
   "execution_count": 148,
   "metadata": {},
   "outputs": [
    {
     "name": "stdout",
     "output_type": "stream",
     "text": [
      "{\n",
      "  \"potential-LAMMPS\": {\n",
      "    \"key\": \"2376ac1b-95ed-42c4-84cd-24952ff0147f\", \n",
      "    \"id\": \"2016--Zhou-X-W--Al-Cu--LAMMPS--ipr2\", \n",
      "    \"potential\": {\n",
      "      \"key\": \"f1c13bf7-7839-466a-8463-50456aea68dc\", \n",
      "      \"id\": \"2016--Zhou-X-W-Ward-D-K-Foster-M-E--Al-Cu\"\n",
      "    }, \n",
      "    \"units\": \"metal\", \n",
      "    \"atom_style\": \"atomic\", \n",
      "    \"atom\": [\n",
      "      {\n",
      "        \"element\": \"Al\", \n",
      "        \"mass\": 26.98\n",
      "      }, \n",
      "      {\n",
      "        \"element\": \"Cu\", \n",
      "        \"mass\": 63.55\n",
      "      }\n",
      "    ], \n",
      "    \"pair_style\": {\n",
      "      \"type\": \"bop\"\n",
      "    }, \n",
      "    \"pair_coeff\": {\n",
      "      \"term\": [\n",
      "        {\n",
      "          \"file\": \"AlCu.bop.table\"\n",
      "        }, \n",
      "        {\n",
      "          \"symbols\": \"True\"\n",
      "        }\n",
      "      ]\n",
      "    }\n",
      "  }\n",
      "}\n"
     ]
    }
   ],
   "source": [
    "potential_lammps = iprbuild.potential_LAMMPS(**kwargs).build()\n",
    "print(potential_lammps.json(indent=2))"
   ]
  },
  {
   "cell_type": "code",
   "execution_count": 149,
   "metadata": {},
   "outputs": [],
   "source": [
    "potdirpath = Path('library/potential_LAMMPS', implementation.id)\n",
    "potfilepath = Path('library/potential_LAMMPS', implementation.id + '.json')\n",
    "\n",
    "try:\n",
    "    potdirpath.mkdir(parents=True)\n",
    "except:\n",
    "    pass\n",
    "for filename in filenames:\n",
    "    shutil.copy(filename, potdirpath)\n",
    "\n",
    "with open(potfilepath, 'w') as f:\n",
    "    potential_lammps.json(fp=f, indent=4)"
   ]
  },
  {
   "cell_type": "code",
   "execution_count": 150,
   "metadata": {},
   "outputs": [
    {
     "name": "stdout",
     "output_type": "stream",
     "text": [
      "record 2016--Zhou-X-W--Al-Cu--LAMMPS--ipr2 (5e1f7a39ab2f7c00263cf74c) successfully uploaded.\n"
     ]
    }
   ],
   "source": [
    "title = potential_lammps['potential-LAMMPS']['id']\n",
    "content = potential_lammps.xml().replace('True', 'true').replace('False', 'false')\n",
    "template = 'potential_LAMMPS'\n",
    "db.cdcs.upload_record(content=content, template=template, title=title)"
   ]
  },
  {
   "cell_type": "markdown",
   "metadata": {},
   "source": [
    "- - -\n",
    "\n",
    "## 5. Action"
   ]
  },
  {
   "cell_type": "markdown",
   "metadata": {},
   "source": [
    "### 5.1 Build action"
   ]
  },
  {
   "cell_type": "markdown",
   "metadata": {},
   "source": [
    "#### 5.1.1 new posting"
   ]
  },
  {
   "cell_type": "code",
   "execution_count": 154,
   "metadata": {},
   "outputs": [
    {
     "name": "stdout",
     "output_type": "stream",
     "text": [
      "2016--Zhou-X-W-Ward-D-K-Foster-M-E--Al-Cu\n"
     ]
    }
   ],
   "source": [
    "for complete_potential in complete_potentials:\n",
    "    print(complete_potential.id)"
   ]
  },
  {
   "cell_type": "code",
   "execution_count": 153,
   "metadata": {},
   "outputs": [
    {
     "data": {
      "text/plain": [
       "<potentials.Potential.Potential at 0x20dd5e482c8>"
      ]
     },
     "execution_count": 153,
     "metadata": {},
     "output_type": "execute_result"
    }
   ],
   "source": [
    "complete_potentials.pop(0)"
   ]
  },
  {
   "cell_type": "code",
   "execution_count": 108,
   "metadata": {},
   "outputs": [],
   "source": [
    "action = potentials.Action(\n",
    "    type = 'new posting',\n",
    "    potentials = complete_potentials,\n",
    "   # date = None,\n",
    "    comment = 'New posting for iron',\n",
    ")"
   ]
  },
  {
   "cell_type": "markdown",
   "metadata": {},
   "source": [
    "#### 5.1.2 updated posting"
   ]
  },
  {
   "cell_type": "code",
   "execution_count": 155,
   "metadata": {},
   "outputs": [],
   "source": [
    "action = potentials.Action(\n",
    "    type = 'updated posting',\n",
    "    potentials = complete_potentials,\n",
    "    date = None,\n",
    "    comment = 'Corrected parameter file',\n",
    ")"
   ]
  },
  {
   "cell_type": "markdown",
   "metadata": {},
   "source": [
    "#### 5.1.3 retraction"
   ]
  },
  {
   "cell_type": "code",
   "execution_count": null,
   "metadata": {},
   "outputs": [],
   "source": [
    "action = potentials.Action(\n",
    "    type = 'retraction',\n",
    "    potentials = complete_potentials,\n",
    "    date = None,        \n",
    "    comment =,\n",
    ")"
   ]
  },
  {
   "cell_type": "markdown",
   "metadata": {},
   "source": [
    "#### 5.1.4 site change"
   ]
  },
  {
   "cell_type": "code",
   "execution_count": null,
   "metadata": {},
   "outputs": [],
   "source": [
    "action = potentials.Action(\n",
    "    type = 'site change',\n",
    "    date = None,\n",
    "    comment = ,\n",
    ")"
   ]
  },
  {
   "cell_type": "markdown",
   "metadata": {},
   "source": [
    "### 5.2 Look and save"
   ]
  },
  {
   "cell_type": "code",
   "execution_count": 156,
   "metadata": {},
   "outputs": [
    {
     "data": {
      "text/html": [
       "<b>updated posting (2020-01-15)</b> Corrected parameter file\n",
       "<br/><a href=\"https://www.ctcms.nist.gov/potentials/entry/2016--Zhou-X-W-Ward-D-K-Foster-M-E--Al-Cu\">2016--Zhou-X-W-Ward-D-K-Foster-M-E--Al-Cu</a>"
      ],
      "text/plain": [
       "<IPython.core.display.HTML object>"
      ]
     },
     "metadata": {},
     "output_type": "display_data"
    }
   ],
   "source": [
    "display(HTML(action.html()))"
   ]
  },
  {
   "cell_type": "code",
   "execution_count": 157,
   "metadata": {},
   "outputs": [
    {
     "name": "stdout",
     "output_type": "stream",
     "text": [
      "record 2020-01-15 Corrected parameter file (5e1f823eab2f7c002e3cf41a) successfully uploaded.\n"
     ]
    }
   ],
   "source": [
    "title = f\"{action.date} {action.comment[:90]}\"\n",
    "content = action.asmodel().xml()\n",
    "template = 'Action'\n",
    "db.cdcs.upload_record(content=content, template=template, title=title)"
   ]
  },
  {
   "cell_type": "markdown",
   "metadata": {},
   "source": [
    "- - -\n",
    "\n",
    "## 6. Request"
   ]
  },
  {
   "cell_type": "markdown",
   "metadata": {},
   "source": [
    "### 6.1 Build request"
   ]
  },
  {
   "cell_type": "code",
   "execution_count": 74,
   "metadata": {},
   "outputs": [],
   "source": [
    "request = potentials.Request(\n",
    "    comment = 'This is a test',\n",
    "    date = None,\n",
    "    systems = [\n",
    "        {\n",
    "            #'formula':,\n",
    "            'elements': ['Ba', 'Da'],\n",
    "        },\n",
    "        {\n",
    "            'formula': 'Moose',\n",
    "            'elements': ['Cu', 'Pa'],\n",
    "        },\n",
    "    ]\n",
    ")"
   ]
  },
  {
   "cell_type": "markdown",
   "metadata": {},
   "source": [
    "### 6.2 Look and save"
   ]
  },
  {
   "cell_type": "code",
   "execution_count": 75,
   "metadata": {},
   "outputs": [
    {
     "data": {
      "text/html": [
       "<b>Ba-Da, Moose</b> This is a test (2020-01-15)"
      ],
      "text/plain": [
       "<IPython.core.display.HTML object>"
      ]
     },
     "metadata": {},
     "output_type": "display_data"
    }
   ],
   "source": [
    "display(HTML(request.html()))"
   ]
  },
  {
   "cell_type": "code",
   "execution_count": null,
   "metadata": {},
   "outputs": [],
   "source": [
    "model = request.asmodel()\n",
    "elements = ' '.join(model.finds('element'))\n",
    "\n",
    "title = f'{request.date} {elements}'\n",
    "content = model.xml()\n",
    "template = 'Request'\n",
    "print(title)\n",
    "print(content)\n",
    "print(template)\n",
    "#db.cdcs.upload_record(content=content, template=template, title=title)"
   ]
  }
 ],
 "metadata": {
  "kernelspec": {
   "display_name": "Python 3",
   "language": "python",
   "name": "python3"
  },
  "language_info": {
   "codemirror_mode": {
    "name": "ipython",
    "version": 3
   },
   "file_extension": ".py",
   "mimetype": "text/x-python",
   "name": "python",
   "nbconvert_exporter": "python",
   "pygments_lexer": "ipython3",
   "version": "3.7.4"
  }
 },
 "nbformat": 4,
 "nbformat_minor": 2
}
