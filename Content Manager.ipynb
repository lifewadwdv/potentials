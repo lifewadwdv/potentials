{
 "cells": [
  {
   "cell_type": "markdown",
   "metadata": {},
   "source": [
    "# Interatomic Potential Repository Content Manager\n",
    "\n",
    "This is a working Notebook providing a single location for adding and modifying content in the potentials.nist.gov database.\n",
    "\n",
    "Notebook outline:\n",
    "\n",
    "0. Setup: Python library imports and defining global parameters.\n",
    "\n",
    "1. Citations: Load, add and modify citation information associated with potential models. Each potential should have at least one citation, with the first being the \"primary\" one for generating IDs. For unpublished potentials, use the unpublished citation option.\n",
    "\n",
    "2. Potentials: Load, add and modify potential information.  A \"potential\" should be a unique parameterization with an associated citation. Note that saving to the database is done in step #4.\n",
    "\n",
    "3. Implementations: Load, add and modify the implementations of a potential. An \"implementation\" is a specific version/representation of a potential in a specific format. Each potential can have zero, one or multiple implementations.\n",
    "\n",
    "4. Save potentials: Review the new/modified potentials and save the content to the database.\n",
    "\n",
    "5. Actions: Actions are used to list changes to the repository. If a potential is added/modified, a corresponding action should also be added.\n",
    "\n",
    "6. Requests: A request is listed on the repository whenever someone asks for a model that we do not have."
   ]
  },
  {
   "cell_type": "markdown",
   "metadata": {},
   "source": [
    "## 0. Setup"
   ]
  },
  {
   "cell_type": "markdown",
   "metadata": {},
   "source": [
    "### Library imports"
   ]
  },
  {
   "cell_type": "code",
   "execution_count": 1,
   "metadata": {},
   "outputs": [],
   "source": [
    "import uuid\n",
    "import datetime\n",
    "import shutil\n",
    "from pathlib import Path\n",
    "\n",
    "import potentials\n",
    "\n",
    "import numpy as np\n",
    "\n",
    "# Jupyter display libraries\n",
    "from IPython.core.display import display, HTML"
   ]
  },
  {
   "cell_type": "markdown",
   "metadata": {},
   "source": [
    "### Global parameters\n",
    "\n",
    "- __complete_potentials__ is a compiled list of the potentials whose addition/changes were uploaded to the database.  This is used by step #5 for reporting website changes.  This should be reset after creating an Action for meaningful sets of potentials.\n",
    "\n",
    "- __db__ is the Database object for accessing and uploading records to the database.  __Note__: you must have an account on potentials.nist.gov and sign in to be able to add or modify content."
   ]
  },
  {
   "cell_type": "code",
   "execution_count": 2,
   "metadata": {},
   "outputs": [],
   "source": [
    "complete_potentials = []"
   ]
  },
  {
   "cell_type": "code",
   "execution_count": null,
   "metadata": {},
   "outputs": [],
   "source": [
    "db = potentials.Database(username='lmh1')"
   ]
  },
  {
   "cell_type": "markdown",
   "metadata": {},
   "source": [
    "- - -\n",
    "\n",
    "## 1. Citations"
   ]
  },
  {
   "cell_type": "code",
   "execution_count": null,
   "metadata": {},
   "outputs": [],
   "source": [
    "db.load_citations(verbose=True)"
   ]
  },
  {
   "cell_type": "markdown",
   "metadata": {},
   "source": [
    "### 1.1 Build or load citation"
   ]
  },
  {
   "cell_type": "markdown",
   "metadata": {},
   "source": [
    "#### Option #1: For existing citations and/or new dois"
   ]
  },
  {
   "cell_type": "code",
   "execution_count": null,
   "metadata": {},
   "outputs": [],
   "source": [
    "doi = '10.1088/0965-0393/24/8/085017'\n",
    "\n",
    "citation = db.get_citation(doi, verbose=True)"
   ]
  },
  {
   "cell_type": "markdown",
   "metadata": {},
   "source": [
    "#### Option #2: For new doi-less citations"
   ]
  },
  {
   "cell_type": "code",
   "execution_count": null,
   "metadata": {},
   "outputs": [],
   "source": [
    "author = 'Bob Test'\n",
    "year = 2099\n",
    "ID = note = f'{year}--Test-L-M'\n",
    "\n",
    "citation = potentials.Citation(ENTRYTYPE = 'unpublished',\n",
    "                               title = 'to be published',\n",
    "                               author = author,\n",
    "                               ID = ID,\n",
    "                               note = note,\n",
    "                               year = year)"
   ]
  },
  {
   "cell_type": "markdown",
   "metadata": {},
   "source": [
    "### 1.2 Investigate and modify\n",
    "\n",
    "- Add abstract\n",
    "\n",
    "- Check and replace garbled latex or other symbols in authors, title and abstract\n",
    "\n",
    "- Verify correct year and page number(s)"
   ]
  },
  {
   "cell_type": "markdown",
   "metadata": {},
   "source": [
    "#### 1.2.1 Generate html and list content fields"
   ]
  },
  {
   "cell_type": "code",
   "execution_count": null,
   "metadata": {},
   "outputs": [],
   "source": [
    "display(HTML(citation.html()))\n",
    "print()\n",
    "for key, value in citation.asdict().items():\n",
    "    print(key+':', value)"
   ]
  },
  {
   "cell_type": "markdown",
   "metadata": {},
   "source": [
    "#### 1.2.2 Modify and update fields\n",
    "\n",
    "Any valid bibtex fields can be added, but citation rendering relies only on the primary fields. "
   ]
  },
  {
   "cell_type": "code",
   "execution_count": null,
   "metadata": {},
   "outputs": [],
   "source": [
    "citation.abstract = ' '.join(['In this atomistic study on the copper–nickel system, a new embedded-atom alloy potential',\n",
    "                              'between copper and nickel is fitted to experimental data on the mixing enthalpy, taking',\n",
    "                              'available potentials for the pure components from literature. The resulting phase boundaries',\n",
    "                              'of the new potential are in very good agreement with a recent CALPHAD prediction. Using',\n",
    "                              'this new potential, a high angle symmetrical tilt Σ5 and a coherent Σ3 twin grain boundary',\n",
    "                              '(GB) are chosen for a systematic investigation of equilibrium GB segregation in the',\n",
    "                              'semi-grandcanonical ensemble at temperatures from 400 K to 800 K. Applying thermodynamically',\n",
    "                              'accurate integration techniques, the GB formation energies are calculated exactly and as an',\n",
    "                              'absolute value for every temperature and composition, which also enables the evaluation of',\n",
    "                              'GB excess entropies. The thorough thermodynamic model of GBs developed by Frolov and Mishin',\n",
    "                              'is excellently confirmed by the simulations quantitatively, if the impact of both segregation',\n",
    "                              'and GB tension on the change in GB formation energy is accounted for. In the case of the',\n",
    "                              'Σ3 coherent GB, it turns out that the change in GB formation energy at low temperatures is',\n",
    "                              'for the most part attributed to the GB tension, while segregation only has a small',\n",
    "                              'influence. This demonstrated effect of GB tensions should also be taken into account in the',\n",
    "                              'interpretation of experiments.'])\n",
    "#citation.author\n",
    "#citation.volume\n",
    "#citation.number\n",
    "#citation.title = 'Water Modeled As an Intermediate Element between Carbon and Silicon'\n",
    "#citation.year\n",
    "#citation.pages"
   ]
  },
  {
   "cell_type": "markdown",
   "metadata": {},
   "source": [
    "#### 1.2.3 Review and Save Citation"
   ]
  },
  {
   "cell_type": "code",
   "execution_count": null,
   "metadata": {},
   "outputs": [],
   "source": [
    "display(HTML(citation.html()))"
   ]
  },
  {
   "cell_type": "code",
   "execution_count": null,
   "metadata": {},
   "outputs": [],
   "source": [
    "db.save_citation(citation, verbose=True)"
   ]
  },
  {
   "cell_type": "markdown",
   "metadata": {},
   "source": [
    "- - -\n",
    "\n",
    "## 2. Potentials"
   ]
  },
  {
   "cell_type": "code",
   "execution_count": null,
   "metadata": {},
   "outputs": [],
   "source": [
    "db.load_potentials(verbose=True)"
   ]
  },
  {
   "cell_type": "markdown",
   "metadata": {},
   "source": [
    "### 2.1 Build or load potential"
   ]
  },
  {
   "cell_type": "markdown",
   "metadata": {},
   "source": [
    "#### Option #1: Build new potential using citation(s)\n",
    "\n",
    "- __elements__ (*list*) The element models used by the potential.\n",
    "- __citations__ (*list*) The citation(s) to associate with the potential.\n",
    "- __notes__ (*str, optional*) Notes providing more information on the potential, such as usage notes and how the potential relates to other potentials.\n",
    "- __key__ (*str, optional*) UUID4 key to assign to the potential.  If None, a new key will be generated.\n",
    "- __othername__ (*str, optional*) Specifies an alternate description of the interactions besides the list of elements.  Examples include if the model is \"universal\", designed for a specific compound, or is a coarse-grain representation.\n",
    "- __fictional__ (*bool, optional*) Flag indicating if the model is \"fictional\", i.e. purposefully fit to unrealistic properties. \n",
    "- __modelname__ (*str, optional*) Used if citation + element info is not enough to create a unique ID, e.g. a publication lists multiple parameterizations of the same element. The value should make it clear which version it is associated with, and correspond to how the authors refer to it when possible.\n",
    "- __recorddate__ (*datetime.date, optional*) Date to assign to the record.  If not given, will use today's date."
   ]
  },
  {
   "cell_type": "code",
   "execution_count": null,
   "metadata": {},
   "outputs": [],
   "source": [
    "potential = potentials.Potential(\n",
    "    elements=['Cu'],\n",
    "    citations=[citation],\n",
    "    #notes=None,\n",
    "    #key=None,\n",
    "    #othername='water',\n",
    "    fictional=True,\n",
    "    modelname='34',\n",
    "    #recorddate=datetime.date(2019, 12, 24)\n",
    "    )"
   ]
  },
  {
   "cell_type": "markdown",
   "metadata": {},
   "source": [
    "#### Option #2: Select existing potential"
   ]
  },
  {
   "cell_type": "code",
   "execution_count": null,
   "metadata": {},
   "outputs": [],
   "source": [
    "potential = db.get_potential(id='2015--Broqvist-P-Kullgren-J-Wolf-M-J-et-al--Ce-O')"
   ]
  },
  {
   "cell_type": "markdown",
   "metadata": {},
   "source": [
    "### 2.2 Investigate and modify"
   ]
  },
  {
   "cell_type": "markdown",
   "metadata": {},
   "source": [
    "#### 2.2.1 Generate html and list content fields"
   ]
  },
  {
   "cell_type": "code",
   "execution_count": null,
   "metadata": {},
   "outputs": [],
   "source": [
    "display(HTML(potential.html()))\n",
    "print()\n",
    "for key, value in potential.asdict().items():\n",
    "    print(key+':', value)"
   ]
  },
  {
   "cell_type": "markdown",
   "metadata": {},
   "source": [
    "#### 2.2.2 Modify and update fields\n",
    "\n",
    "Same fields as above"
   ]
  },
  {
   "cell_type": "code",
   "execution_count": null,
   "metadata": {},
   "outputs": [],
   "source": [
    "#potential.key = \n",
    "#potential.recorddate = datetime.date()\n",
    "#potential.elements = []\n",
    "#potential.othername = 'water'\n",
    "#potential.fictional = \n",
    "#potential.modelname = "
   ]
  },
  {
   "cell_type": "code",
   "execution_count": null,
   "metadata": {},
   "outputs": [],
   "source": [
    "potential.notes = ' '.join([\"This listing is for the MCu34 parameterization listed in the reference.\",\n",
    "                            \"Dr. M.I. Mendelev (Ames Laboratory) noted that these are new fictional potentials intended\",\n",
    "                            \"to supplement the existing potentials posted to the NIST repository\",\n",
    "                            \"(as the 2015--Borovikov-V-Mendelev-M-I-King-A-H-LeSar-R--fictional-Cu-# listings).\",\n",
    "                            'Dr. Mendelev further noted that, \"the new potentials provide the same SFE as',\n",
    "                            '<a href=\"https://www.ctcms.nist.gov/potentials/entry/2013--Mendelev-M-I-King-A-H--Cu/\">2013--Mendelev-M-I-King-A-H--Cu</a>',\n",
    "                            'but different unstable stacking fault',\n",
    "                            'energy (USFE). All these Cu fictional potentials are designed to study the effect of SFE and USFE on the',\n",
    "                            'deformation behavior in fcc metals.\"  Reference information added March 5, 2020.'])         "
   ]
  },
  {
   "cell_type": "code",
   "execution_count": null,
   "metadata": {},
   "outputs": [],
   "source": [
    "#potential.notes += "
   ]
  },
  {
   "cell_type": "markdown",
   "metadata": {},
   "source": [
    "#### 2.2.3 Delete potential (PERMANENT!)"
   ]
  },
  {
   "cell_type": "code",
   "execution_count": null,
   "metadata": {},
   "outputs": [],
   "source": [
    "###db.cdcs.delete_record(title='potential.'+potential.id, template='Potential')"
   ]
  },
  {
   "cell_type": "markdown",
   "metadata": {},
   "source": [
    "## 3. Implementations"
   ]
  },
  {
   "cell_type": "markdown",
   "metadata": {},
   "source": [
    "### 3.1 List all current implementation types\n",
    "\n",
    "List is given to help keep type values (relatively) uniform. "
   ]
  },
  {
   "cell_type": "code",
   "execution_count": null,
   "metadata": {},
   "outputs": [],
   "source": [
    "imptypes = []\n",
    "for pot in db.potentials:\n",
    "    for imp in pot.implementations:\n",
    "        imptypes.append(imp.type)\n",
    "imptypes = np.unique(imptypes)\n",
    "\n",
    "print('All existing implementation types:')\n",
    "for imptypes in imptypes:\n",
    "    print('   ', imptypes)"
   ]
  },
  {
   "cell_type": "markdown",
   "metadata": {},
   "source": [
    "### 3.2 Build or load implementation"
   ]
  },
  {
   "cell_type": "markdown",
   "metadata": {},
   "source": [
    "#### 3.2.1 List ids for current potential and implementations"
   ]
  },
  {
   "cell_type": "code",
   "execution_count": null,
   "metadata": {},
   "outputs": [],
   "source": [
    "print('potential id:', potential.id)\n",
    "print('implementation ids:')\n",
    "for i, implementation in enumerate(potential.implementations):\n",
    "    print(f'{i}: {implementation.id}')"
   ]
  },
  {
   "cell_type": "markdown",
   "metadata": {},
   "source": [
    "#### 3.2.2 Build new implementation\n",
    "\n",
    "- __type__ (*str*) Describes the type of the implementation. Use one of the listed values above if possible.\n",
    "- __id__ (*str*) Unique human-readable id for the implementation. For new content, should be derived from the associated potential id:\n",
    "    - Remove all authors except for the first\n",
    "    - Add a simple format descriptor: LAMMPS, GULP, table, parameters, FORTRAN, etc.\n",
    "    - Add a version descriptor: ipr1, ipr2, etc\n",
    "- __notes__ (*str, optional*) Notes on the implementation.  This includes where the file(s) came from, who created them, testing info, how it differs from other versions, etc.\n",
    "- __key__ (*str, optional*) UUID4 key to assign to the implementation.  If None, a new key will be generated.\n",
    "- __status__ (*str, optional*) Indicates the status of the implementation. Available values are \n",
    "    - \"active\" (default) indicates a current implementation.\n",
    "    - \"superseded\" indicates an implementation that is still consistent with the potential model, but has minor issues that were fixed by a newer implementation.\n",
    "    - \"retracted\" indicates an implementation that was identified as being an invalid representation of the potential model.\n",
    "- __date__ (*datetime.date, optional*) The date that the implementation was submitted or added.  If not given, will use today's date."
   ]
  },
  {
   "cell_type": "code",
   "execution_count": null,
   "metadata": {},
   "outputs": [],
   "source": [
    "implementation = potentials.Implementation(\n",
    "    type='LAMMPS pair_style reax/c',\n",
    "    id='2015--Broqvist-P--Ce-O--LAMMPS--ipr2',\n",
    "    notes=' '.join(['These files were posted on March 15, 2020 by Lucas Hale. By separating the comments into a separate file, this parameter file is compatible with LAMMPS.']),\n",
    "    key='e5ed3ebc-d8bc-49fd-856d-266eb708f269',\n",
    "    #status=None,\n",
    "    date=datetime.date(2020, 3, 15), \n",
    ")\n",
    "index = len(potential.implementations)\n",
    "potential.implementations.append(implementation)"
   ]
  },
  {
   "cell_type": "markdown",
   "metadata": {},
   "source": [
    "#### 3.2.3 Select implementation\n",
    "\n",
    "Must be done"
   ]
  },
  {
   "cell_type": "code",
   "execution_count": null,
   "metadata": {},
   "outputs": [],
   "source": [
    "index = 1\n",
    "implementation = potential.implementations[index]"
   ]
  },
  {
   "cell_type": "markdown",
   "metadata": {},
   "source": [
    "### 3.3 Modify implementation"
   ]
  },
  {
   "cell_type": "markdown",
   "metadata": {},
   "source": [
    "#### 3.3.1 Modify implementation metadata "
   ]
  },
  {
   "cell_type": "code",
   "execution_count": null,
   "metadata": {},
   "outputs": [],
   "source": [
    "display(HTML(implementation.html()))"
   ]
  },
  {
   "cell_type": "code",
   "execution_count": null,
   "metadata": {},
   "outputs": [],
   "source": [
    "#implementation.type='LAMMPS pair_style sw',\n",
    "#implementation.key=None,\n",
    "#implementation.id='2009--Molinero-V--water--ipr-1',\n",
    "#implementation.status=None,\n",
    "#implementation.date=datetime.date(2020, 1, 10), \n",
    "implementation.notes= ' '.join(['The parameter file mW.sw was provided by Rodrigo Freitas (Standford) on Jan 10, 2020.',\n",
    "                                'main.pdf contains computed properties and references that show this LAMMPS implementation',\n",
    "                                'to give predictions consistent with what is reported in the original paper.',\n",
    "                                ])"
   ]
  },
  {
   "cell_type": "code",
   "execution_count": null,
   "metadata": {},
   "outputs": [],
   "source": [
    "implementation.date=datetime.date(2014, 11, 24)"
   ]
  },
  {
   "cell_type": "code",
   "execution_count": null,
   "metadata": {},
   "outputs": [],
   "source": [
    "implementation.notes = 'This file was provided by Sergei Starikov (Ruhr-Universität Bochum, Germany) on 5 May 2019. It has been carefully tested and gives the expected property predictions. Update March 15, 2020: This version was identified to not be compatible with LAMMPS versions after 7 Aug 2019 due to more rigorous format checks.'"
   ]
  },
  {
   "cell_type": "code",
   "execution_count": null,
   "metadata": {},
   "outputs": [],
   "source": [
    "implementation.notes += ' Update Jan 15, 2020: It was noticed that the original file hosted here was truncated and incomplete.'\n",
    "implementation.notes += ' The incomplete file will not work with LAMMPS versions after 7 Aug 2019.'\n",
    "implementation.notes += ' For earlier LAMMPS versions, both versions of the parameter file appear to behave identically.'"
   ]
  },
  {
   "cell_type": "code",
   "execution_count": null,
   "metadata": {},
   "outputs": [],
   "source": [
    "implementation.status = 'retracted'\n",
    "implementation.notes = 'This file was sent by J. Kullgren (Uppsala University) on 19 December 2016 and posted with his permission. Update March 15, 2020: This version was identified to not be compatible with LAMMPS.'"
   ]
  },
  {
   "cell_type": "code",
   "execution_count": null,
   "metadata": {},
   "outputs": [],
   "source": [
    "implementation.notes='These files were posted on March 15, 2020 by Lucas Hale. They modify the above version by separating the comments into a separate file, making the parameter file compatible with LAMMPS.'"
   ]
  },
  {
   "cell_type": "code",
   "execution_count": null,
   "metadata": {},
   "outputs": [],
   "source": [
    "implementation.type = 'LAMMPS pair_style reax/c'"
   ]
  },
  {
   "cell_type": "code",
   "execution_count": null,
   "metadata": {},
   "outputs": [],
   "source": [
    "implementation.id = '2013--Bonny-G--Fe-Cr-W--LAMMPS--ipr1'"
   ]
  },
  {
   "cell_type": "markdown",
   "metadata": {},
   "source": [
    "#### 3.3.2 Add implementation content\n",
    "\n",
    "The content for the implementation can exist in one of the following formats\n",
    "\n",
    "1. Artifacts: files that are hosted on the potentials repository.\n",
    "2. Parameters: list of the potential's parameters to show as html text on the repository.\n",
    "3. WebLinks: hyperlinks to content hosted externally."
   ]
  },
  {
   "cell_type": "markdown",
   "metadata": {},
   "source": [
    "#### Option #1: Add artifacts\n",
    "\n",
    "Each artifact has:\n",
    "\n",
    "- __filename__ (*str*) The name of the file (no path information).\n",
    "- __url__ (*str*) The absolute url where the file can be downloaded from.\n",
    "- __label__ (*str, optional*) An optional descriptive label for the file."
   ]
  },
  {
   "cell_type": "code",
   "execution_count": null,
   "metadata": {},
   "outputs": [],
   "source": [
    "# Define paths to files\n",
    "newpotpath = Path('C:/Users/lmh1/Documents/website/new potentials')\n",
    "webpath = 'https://www.ctcms.nist.gov/potentials/'\n",
    "localpath = Path('C:/Users/lmh1/Documents/website/IPR-website/potentials/')\n",
    "relpath = f'Download/{potential.id}/{index+1}/'"
   ]
  },
  {
   "cell_type": "code",
   "execution_count": null,
   "metadata": {},
   "outputs": [],
   "source": [
    "# Specify files from newpotpath to add\n",
    "filenames = [\n",
    "    Path(newpotpath, 'ffield_Ce-O'),\n",
    "    Path(newpotpath, 'comments.txt'),\n",
    "    ]\n",
    "\n",
    "labels = [None for i in range(len(filenames))]"
   ]
  },
  {
   "cell_type": "code",
   "execution_count": null,
   "metadata": {},
   "outputs": [],
   "source": [
    "# Specify files from newpotpath to add\n",
    "filenames = [\n",
    "    Path(newpotpath, 'READ_ME.txt'),\n",
    "    Path(newpotpath, 'FeCrW_d.eam.alloy'),\n",
    "    Path(newpotpath, 'FeCrW_s.eam.fs'),\n",
    "    ]\n",
    "\n",
    "labels = [\n",
    "    'Documentation',\n",
    "    'd_band',\n",
    "    's_band',\n",
    "]"
   ]
  },
  {
   "cell_type": "code",
   "execution_count": null,
   "metadata": {},
   "outputs": [],
   "source": [
    "# Make download directory in local copy of website\n",
    "downloadpath = Path(localpath, relpath)\n",
    "if not downloadpath.is_dir():\n",
    "    downloadpath.mkdir(parents=True)\n",
    "\n",
    "# Copy files and add artifact listings\n",
    "for filename, label in zip(filenames, labels):\n",
    "    # Build url\n",
    "    url = webpath + relpath + filename.name\n",
    "    # Copy files\n",
    "    shutil.copy(filename, downloadpath)\n",
    "    print(Path(downloadpath, filename.name))\n",
    "    \n",
    "    # Add artifact listing to implementation\n",
    "    implementation.add_artifact(filename=filename.name, url=url, label=label)"
   ]
  },
  {
   "cell_type": "code",
   "execution_count": null,
   "metadata": {},
   "outputs": [],
   "source": [
    "implementation.artifacts[0].url"
   ]
  },
  {
   "cell_type": "code",
   "execution_count": null,
   "metadata": {},
   "outputs": [],
   "source": [
    "implementation.artifacts[0].url = 'https://www.ctcms.nist.gov/potentials/Download/2016--Wilson-S-R-Mendelev-M-I--fictional-W/1/W2.eam.fs'"
   ]
  },
  {
   "cell_type": "markdown",
   "metadata": {},
   "source": [
    "#### Option #2: Add parameters\n",
    "\n",
    "Each parameter has:\n",
    "\n",
    "- __name__ (*str, optional*) The name of the parameter or string parameter line.\n",
    "- __value__ (*float, optional*) The value of the parameter.\n",
    "- __unit__ (*str, optional*) Units associated with value.\n",
    "\n",
    "Note: if the parameters are purely text-based, you can use only the name field."
   ]
  },
  {
   "cell_type": "code",
   "execution_count": null,
   "metadata": {},
   "outputs": [],
   "source": []
  },
  {
   "cell_type": "markdown",
   "metadata": {},
   "source": [
    "#### Option #3: Add weblinks\n",
    "\n",
    "Each weblink has:\n",
    "\n",
    "- __url__ (*str*) URL for the link.\n",
    "- __label__ (*str, optional*) A short description label to proceed the link.\n",
    "- __linktext__ (*str, optional*) The text for the link, i.e. what gets clicked on."
   ]
  },
  {
   "cell_type": "code",
   "execution_count": null,
   "metadata": {},
   "outputs": [],
   "source": []
  },
  {
   "cell_type": "markdown",
   "metadata": {},
   "source": [
    "## 4. Review and save potentials"
   ]
  },
  {
   "cell_type": "code",
   "execution_count": null,
   "metadata": {},
   "outputs": [],
   "source": [
    "display(HTML(potential.html()))"
   ]
  },
  {
   "cell_type": "code",
   "execution_count": null,
   "metadata": {},
   "outputs": [],
   "source": [
    "db.upload_potential(potential)\n",
    "complete_potentials.append(potential)"
   ]
  },
  {
   "cell_type": "markdown",
   "metadata": {},
   "source": [
    "## 5. potential_LAMMPS\n",
    "\n",
    "This section generates the potential_LAMMPS metadata records for generating the LAMMPS input command lines for supported potentials."
   ]
  },
  {
   "cell_type": "markdown",
   "metadata": {},
   "source": [
    "### 5.1 Common settings\n",
    "\n",
    "- __id__ (*str, optional*) implementation id. Should match with the implementation id from above.\n",
    "- __key__ (*str, optional*) implementation key. Should match with the implementation key from above.\n",
    "- __potid__ (*str, optional*) potential id. Should match with the potential id from above.\n",
    "- __potkey__ (*str, optional*) potential key. Should match with the potential key from above.\n",
    "- __elements__ (*list, optional*) The elements that the implementation simulates.  Should match with the elements from above if the implementation explicitly models each element.\n",
    "- __symbols__ (*list, optional*) The particle model symbols defined by the implementation.  Not needed if identical to elements.\n",
    "- __masses__ (*list, optional*) The masses to assign to each symbol/element.  Should be given if the implementation specifies the mass.  Required if elements is not given.\n",
    "- __units__ (*str, optional*) The LAMMPS units to use with the implementation.  Default value is 'metal'.\n",
    "- __atom_style__ (*str, optional*) The LAMMPS atom_style to use with the implementation.  Default value is 'atomic'.\n",
    "- __pair_style__ (*str*) The LAMMPS pair_style associated with the implementation.\n",
    "- __pair_style_terms__ (*list, optional*) Any additional terms that should appear on the pair_style command line."
   ]
  },
  {
   "cell_type": "code",
   "execution_count": null,
   "metadata": {},
   "outputs": [],
   "source": [
    "kwargs = {}\n",
    "kwargs['id'] = implementation.id\n",
    "kwargs['key'] = implementation.key\n",
    "kwargs['potid'] = potential.id\n",
    "kwargs['potkey'] = potential.key\n",
    "\n",
    "kwargs['elements'] = potential.elements\n",
    "#kwargs['symbols'] = \n",
    "kwargs['masses'] = [63.546]\n",
    "\n",
    "#kwargs['units'] =\n",
    "#kwargs['atom_style'] = \n",
    "\n",
    "kwargs['pair_style'] = 'eam/fs'\n",
    "#kwargs['pair_style_terms'] = ['polar_off']"
   ]
  },
  {
   "cell_type": "code",
   "execution_count": null,
   "metadata": {},
   "outputs": [],
   "source": []
  },
  {
   "cell_type": "markdown",
   "metadata": {},
   "source": [
    "### 5.2 Style-specific settings"
   ]
  },
  {
   "cell_type": "markdown",
   "metadata": {},
   "source": [
    "#### Option #1 For pair potentials without parameter files, e.g lj/cut"
   ]
  },
  {
   "cell_type": "code",
   "execution_count": null,
   "metadata": {},
   "outputs": [],
   "source": [
    "kwargs['interactions'] = [\n",
    "    {'symbols': ['Al', 'Al'], 'terms': [1.23, 3.412]},\n",
    "    {'symbols': ['Al', 'Cu'], 'terms': [1.23, 3.412]},\n",
    "    {'symbols': ['Cu', 'Cu'], 'terms': [1.23, 3.412]},\n",
    "]"
   ]
  },
  {
   "cell_type": "markdown",
   "metadata": {},
   "source": [
    "#### Option #2 For potentials with single parameter files, e.g. eam/alloy"
   ]
  },
  {
   "cell_type": "code",
   "execution_count": null,
   "metadata": {},
   "outputs": [],
   "source": [
    "kwargs['paramfile'] = 'MCu34.eam.fs'"
   ]
  },
  {
   "cell_type": "markdown",
   "metadata": {},
   "source": [
    "#### Option #3 For potentials with a parameter file and a library file, e.g. meam"
   ]
  },
  {
   "cell_type": "code",
   "execution_count": null,
   "metadata": {},
   "outputs": [],
   "source": [
    "kwargs['libfile'] = 'library.meam'\n",
    "kwargs['paramfile'] = 'parameter.meam'"
   ]
  },
  {
   "cell_type": "markdown",
   "metadata": {},
   "source": [
    "#### Option #4 For classic EAM potentials, i.e. eam"
   ]
  },
  {
   "cell_type": "code",
   "execution_count": null,
   "metadata": {},
   "outputs": [],
   "source": [
    "kwargs['paramfiles'] = []"
   ]
  },
  {
   "cell_type": "markdown",
   "metadata": {},
   "source": [
    "#### Option #5 For OpenKIM potentials"
   ]
  },
  {
   "cell_type": "code",
   "execution_count": null,
   "metadata": {},
   "outputs": [],
   "source": [
    "kwargs['kimid'] = "
   ]
  },
  {
   "cell_type": "markdown",
   "metadata": {},
   "source": [
    "#### Option #999 Read local file "
   ]
  },
  {
   "cell_type": "code",
   "execution_count": null,
   "metadata": {},
   "outputs": [],
   "source": [
    "from DataModelDict import DataModelDict as DM"
   ]
  },
  {
   "cell_type": "code",
   "execution_count": null,
   "metadata": {},
   "outputs": [],
   "source": [
    "title = '2015--Broqvist-P--Ce-O--LAMMPS--ipr2'\n",
    "\n",
    "fdir = Path('C:/Users/lmh1/Documents/website/new potentials/`fixed_pots')\n",
    "fname = Path(fdir, f'{title}.json')\n",
    "potential_lammps = DM(fname)"
   ]
  },
  {
   "cell_type": "code",
   "execution_count": null,
   "metadata": {},
   "outputs": [],
   "source": [
    "print(potential_lammps.json(indent=2))"
   ]
  },
  {
   "cell_type": "code",
   "execution_count": null,
   "metadata": {},
   "outputs": [],
   "source": [
    "template = 'potential_LAMMPS'\n",
    "content = potential_lammps.xml().replace('True', 'true').replace('False', 'false').replace('1e-06', '0.000001')\n",
    "db.cdcs.upload_record(content=content, template=template, title=title)"
   ]
  },
  {
   "cell_type": "markdown",
   "metadata": {},
   "source": [
    "### 5.3 Build, review and save"
   ]
  },
  {
   "cell_type": "code",
   "execution_count": null,
   "metadata": {},
   "outputs": [],
   "source": [
    "potential_lammps = potentials.build_potential_LAMMPS(**kwargs).build()\n",
    "print(potential_lammps.json(indent=2))"
   ]
  },
  {
   "cell_type": "code",
   "execution_count": null,
   "metadata": {},
   "outputs": [],
   "source": [
    "potdirpath = Path('library/potential_LAMMPS', implementation.id)\n",
    "potfilepath = Path('library/potential_LAMMPS', implementation.id + '.json')\n",
    "\n",
    "try:\n",
    "    potdirpath.mkdir(parents=True)\n",
    "except:\n",
    "    pass\n",
    "for filename in filenames:\n",
    "    shutil.copy(filename, potdirpath)\n",
    "\n",
    "with open(potfilepath, 'w') as f:\n",
    "    potential_lammps.json(fp=f, indent=4)"
   ]
  },
  {
   "cell_type": "code",
   "execution_count": null,
   "metadata": {},
   "outputs": [],
   "source": [
    "title = potential_lammps['potential-LAMMPS']['id']\n",
    "content = potential_lammps.xml().replace('True', 'true').replace('False', 'false')\n",
    "template = 'potential_LAMMPS'\n",
    "db.cdcs.upload_record(content=content, template=template, title=title)"
   ]
  },
  {
   "cell_type": "code",
   "execution_count": null,
   "metadata": {},
   "outputs": [],
   "source": [
    "db.upload_lammps_potential(potential_lammps)"
   ]
  },
  {
   "cell_type": "code",
   "execution_count": null,
   "metadata": {},
   "outputs": [],
   "source": [
    "pot = db.get_lammps_potential(id='2015--Broqvist-P--Ce-O--LAMMPS--ipr2')"
   ]
  },
  {
   "cell_type": "code",
   "execution_count": null,
   "metadata": {},
   "outputs": [],
   "source": [
    "pot.status"
   ]
  },
  {
   "cell_type": "code",
   "execution_count": null,
   "metadata": {
    "scrolled": false
   },
   "outputs": [],
   "source": [
    "for pot in pots:\n",
    "    content = pot.asmodel()\n",
    "    content['potential-LAMMPS']['status'] = 'retracted'\n",
    "    newpot = potentials.PotentialLAMMPS(content)\n",
    "    db.upload_lammps_potential(newpot)    "
   ]
  },
  {
   "cell_type": "code",
   "execution_count": null,
   "metadata": {},
   "outputs": [],
   "source": [
    "content = newpot.asmodel()\n",
    "content['potential-LAMMPS']['command']['term'][-2]['parameter'] = '0.000001'"
   ]
  },
  {
   "cell_type": "code",
   "execution_count": null,
   "metadata": {},
   "outputs": [],
   "source": [
    "print(content.json(indent=4))"
   ]
  },
  {
   "cell_type": "code",
   "execution_count": null,
   "metadata": {},
   "outputs": [],
   "source": [
    "c = \"\"\"{\n",
    "    \"potential-LAMMPS\": {\n",
    "        \"key\": \"1cb880e7-0cef-462f-8dde-9e891ada27e5\", \n",
    "        \"id\": \"2016--Beland-L-K--Ni-Co--LAMMPS--ipr2\", \n",
    "        \"potential\": {\n",
    "            \"key\": \"8435450a-75e2-4c19-885f-ad2bb8ca34e6\", \n",
    "            \"id\": \"2016--Beland-L-K-Lu-C-Osetskiy-Y-N-et-al--Ni-Co\"\n",
    "        }, \n",
    "        \"units\": \"metal\", \n",
    "        \"atom_style\": \"atomic\", \n",
    "        \"atom\": [\n",
    "            {\n",
    "                \"element\": \"Ni\", \n",
    "                \"mass\": 58.6934\n",
    "            }, \n",
    "            {\n",
    "                \"element\": \"Co\", \n",
    "                \"mass\": 58.9332\n",
    "            }\n",
    "        ], \n",
    "        \"pair_style\": {\n",
    "            \"type\": \"hybrid/overlay\",\n",
    "            \"term\": {\n",
    "                \"option\": \"zbl eam/alloy\"\n",
    "            }\n",
    "        }, \n",
    "        \"pair_coeff\": [\n",
    "            {\n",
    "                \"interaction\": {\n",
    "                    \"symbol\": [\n",
    "                        \"Ni\", \n",
    "                        \"Ni\"\n",
    "                    ]\n",
    "                }, \n",
    "                \"term\": [\n",
    "                    {\n",
    "                        \"option\": \"zbl\"\n",
    "                    }, \n",
    "                    {\n",
    "                        \"parameter\": 28\n",
    "                    }, \n",
    "                    {\n",
    "                        \"parameter\": 28\n",
    "                    }\n",
    "                ]\n",
    "            },\n",
    "            {\n",
    "                \"interaction\": {\n",
    "                    \"symbol\": [\n",
    "                        \"Ni\", \n",
    "                        \"Co\"\n",
    "                    ]\n",
    "                }, \n",
    "                \"term\": [\n",
    "                    {\n",
    "                        \"option\": \"zbl\"\n",
    "                    }, \n",
    "                    {\n",
    "                        \"parameter\": 28\n",
    "                    }, \n",
    "                    {\n",
    "                        \"parameter\": 27\n",
    "                    }\n",
    "                ]\n",
    "            },\n",
    "            {\n",
    "                \"interaction\": {\n",
    "                    \"symbol\": [\n",
    "                        \"Co\", \n",
    "                        \"Co\"\n",
    "                    ]\n",
    "                }, \n",
    "                \"term\": [\n",
    "                    {\n",
    "                        \"option\": \"zbl\"\n",
    "                    }, \n",
    "                    {\n",
    "                        \"parameter\": 27\n",
    "                    }, \n",
    "                    {\n",
    "                        \"parameter\": 27\n",
    "                    }\n",
    "                ]\n",
    "            },\n",
    "            {\n",
    "                \"term\": [\n",
    "                    {\n",
    "                        \"file\": \"NiCo-lammps-2014.alloy\"\n",
    "                    }, \n",
    "                    {\n",
    "                        \"symbols\": \"true\"\n",
    "                    }\n",
    "                ]\n",
    "            }\n",
    "        ]\n",
    "    }\n",
    "}\"\"\""
   ]
  },
  {
   "cell_type": "code",
   "execution_count": null,
   "metadata": {},
   "outputs": [],
   "source": [
    "newpot = potentials.PotentialLAMMPS(c)"
   ]
  },
  {
   "cell_type": "code",
   "execution_count": null,
   "metadata": {},
   "outputs": [],
   "source": [
    "db.upload_lammps_potential(newpot)"
   ]
  },
  {
   "cell_type": "code",
   "execution_count": null,
   "metadata": {},
   "outputs": [],
   "source": [
    "db.cdcs.delete_record(template='potential_LAMMPS', title='2015--Thompson-A-P--Ta--LAMMPS--ipr2a')"
   ]
  },
  {
   "cell_type": "markdown",
   "metadata": {},
   "source": [
    "- - -\n",
    "\n",
    "## 5. Actions\n",
    "\n",
    "Actions are used by the website to note changes in content and representation. "
   ]
  },
  {
   "cell_type": "markdown",
   "metadata": {},
   "source": [
    "### 5.1 Build action"
   ]
  },
  {
   "cell_type": "markdown",
   "metadata": {},
   "source": [
    "#### Option #1: new posting(s)"
   ]
  },
  {
   "cell_type": "code",
   "execution_count": null,
   "metadata": {},
   "outputs": [],
   "source": [
    "for complete_potential in complete_potentials:\n",
    "    print(complete_potential.id)"
   ]
  },
  {
   "cell_type": "code",
   "execution_count": null,
   "metadata": {},
   "outputs": [],
   "source": [
    "action = potentials.Action(\n",
    "    type = 'new posting',\n",
    "    potentials = complete_potentials,\n",
    "   # date = None,\n",
    "    comment = 'New posting for Cu-Ni',\n",
    ")"
   ]
  },
  {
   "cell_type": "markdown",
   "metadata": {},
   "source": [
    "#### Option #2: updated posting(s)"
   ]
  },
  {
   "cell_type": "code",
   "execution_count": null,
   "metadata": {},
   "outputs": [],
   "source": [
    "action = potentials.Action(\n",
    "    type = 'updated posting',\n",
    "    potentials = complete_potentials,\n",
    "    date = None,\n",
    "    comment = 'Corrected parameter files for new LAMMPS versions',\n",
    ")"
   ]
  },
  {
   "cell_type": "markdown",
   "metadata": {},
   "source": [
    "#### Option #3: retraction"
   ]
  },
  {
   "cell_type": "code",
   "execution_count": null,
   "metadata": {},
   "outputs": [],
   "source": [
    "action = potentials.Action(\n",
    "    type = 'retraction',\n",
    "    potentials = complete_potentials,\n",
    "    date = None,        \n",
    "    comment =,\n",
    ")"
   ]
  },
  {
   "cell_type": "markdown",
   "metadata": {},
   "source": [
    "#### Option #4: site change"
   ]
  },
  {
   "cell_type": "code",
   "execution_count": null,
   "metadata": {},
   "outputs": [],
   "source": [
    "action = potentials.Action(\n",
    "    type = 'site change',\n",
    "    date = None,\n",
    "    comment = 'IDs added for all non-LAMMPS implementations. The handling of fictional potentials made consistent with \"real\" potentials.',\n",
    "    potentials = []\n",
    ")"
   ]
  },
  {
   "cell_type": "markdown",
   "metadata": {},
   "source": [
    "### 5.2 Look and save"
   ]
  },
  {
   "cell_type": "code",
   "execution_count": null,
   "metadata": {},
   "outputs": [],
   "source": [
    "display(HTML(action.html()))"
   ]
  },
  {
   "cell_type": "code",
   "execution_count": null,
   "metadata": {},
   "outputs": [],
   "source": [
    "title = f\"{action.date} {action.comment[:90]}\"\n",
    "content = action.asmodel().xml()\n",
    "template = 'Action'\n",
    "db.cdcs.upload_record(content=content, template=template, title=title)"
   ]
  },
  {
   "cell_type": "markdown",
   "metadata": {},
   "source": [
    "- - -\n",
    "\n",
    "## 6. Requests\n",
    "\n",
    "Requests are used by the website to list when people are looking for specific models that we don't have."
   ]
  },
  {
   "cell_type": "markdown",
   "metadata": {},
   "source": [
    "### 6.1 Build request"
   ]
  },
  {
   "cell_type": "code",
   "execution_count": null,
   "metadata": {},
   "outputs": [],
   "source": [
    "request = potentials.Request(\n",
    "    #comment = 'reactive potentials',\n",
    "    date = datetime.date(2020, 1, 2),\n",
    "    systems = [\n",
    "        {\n",
    "            #'formula':,\n",
    "            'elements': ['Mg', 'Cu'],\n",
    "        },\n",
    "        #{\n",
    "        #    'formula': 'Moose',\n",
    "       #     'elements': ['Ti', 'Cl'],\n",
    "       # },\n",
    "    ]\n",
    ")"
   ]
  },
  {
   "cell_type": "markdown",
   "metadata": {},
   "source": [
    "### 6.2 Look and save"
   ]
  },
  {
   "cell_type": "code",
   "execution_count": null,
   "metadata": {},
   "outputs": [],
   "source": [
    "display(HTML(request.html()))"
   ]
  },
  {
   "cell_type": "code",
   "execution_count": null,
   "metadata": {},
   "outputs": [],
   "source": [
    "model = request.asmodel()\n",
    "elements = ' '.join(model.finds('element'))\n",
    "\n",
    "title = f'{request.date} {elements}'\n",
    "content = model.xml()\n",
    "template = 'Request'\n",
    "\n",
    "db.cdcs.upload_record(content=content, template=template, title=title)"
   ]
  },
  {
   "cell_type": "markdown",
   "metadata": {},
   "source": [
    "   "
   ]
  }
 ],
 "metadata": {
  "kernelspec": {
   "display_name": "Python 3",
   "language": "python",
   "name": "python3"
  },
  "language_info": {
   "codemirror_mode": {
    "name": "ipython",
    "version": 3
   },
   "file_extension": ".py",
   "mimetype": "text/x-python",
   "name": "python",
   "nbconvert_exporter": "python",
   "pygments_lexer": "ipython3",
   "version": "3.7.6"
  }
 },
 "nbformat": 4,
 "nbformat_minor": 2
}
