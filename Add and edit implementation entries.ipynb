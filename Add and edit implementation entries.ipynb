{
 "cells": [
  {
   "cell_type": "markdown",
   "metadata": {},
   "source": [
    "# Introduction\n",
    "\n",
    "A potential entry provides metadata information associated with the concept of an interatomic potential, i.e. the functional form. \n",
    "\n",
    "Settable attributes:\n",
    "\n",
    "- __key__ (*str*) A unique identifier for the implementation, preferably a UUID4 identifier.  If not given, a new UUID4 will be generated.\n",
    "- __id__ (*str or list*) A unique human-readable id to assign to the implementation.\n",
    "- __potential__ (*Potential or str*) The Potential object that the implementation is associated with.  Can be given as a Potential object or the potential's key.\n",
    "- __type__ (*str*) The type of implementation.  Check existing types to aim for consistency.\n",
    "- __notes__ (*str*) Any notes/comments about the implementation.\n",
    "- __date__ (*datetime.date*) The version date for the record\n",
    "- __artifacts__ (*list of dict*) Associates files to the implementation. Each artifact dict can have the following keys:\n",
    "    - filename: name of the file (no path)\n",
    "    - label: short label description\n",
    "    - url: URL to content, if available\n",
    "- __parameters__ (*list of dict*) Associates parameter values to the implementation. Each parameter dict can have the following keys:\n",
    "    - name: str name or complex parameter str\n",
    "    - value: int, float parameter value\n",
    "    - unit: unit value is in, if needed\n",
    "- __weblinks__ (*list of dict*) Associates web links to the implementation. Each weblink dict can have the following keys:\n",
    "    - url: the link's URL\n",
    "    - label: short label description\n",
    "    - linktext: text for the link (what is clicked on)"
   ]
  },
  {
   "cell_type": "code",
   "execution_count": 1,
   "metadata": {},
   "outputs": [],
   "source": [
    "from IPython.core.display import display, HTML\n",
    "from potentials.database import Implementation"
   ]
  },
  {
   "cell_type": "markdown",
   "metadata": {},
   "source": [
    "All attributes listed above can be set during object initialization. All attributes can also be assigned to the class after initialization."
   ]
  },
  {
   "cell_type": "code",
   "execution_count": 2,
   "metadata": {},
   "outputs": [
    {
     "name": "stdout",
     "output_type": "stream",
     "text": [
      "potential loaded from localdir\n",
      "bibtex loaded 10.1039/c8nj00513c from localdir\n"
     ]
    }
   ],
   "source": [
    "imp = Implementation(\n",
    "    #key = ,\n",
    "    id = 'test_implementation',\n",
    "    potential = '0dcce013-aa73-49bc-bb6d-d1ec28a31b52',\n",
    "    type = 'Code format',\n",
    "    #date = 'YEAR-MO-DY',\n",
    "    notes = 'This is a demonstration implementation description. NOT REAL!',\n",
    "    #elements = ['Al', 'Cu'],\n",
    "    #fictional = True,\n",
    "    #othername = 'Al3Cu',\n",
    "    #modelname = 'A',\n",
    "    #developers = 'P. T. Barnum and J. A. Bailey'\n",
    "    #year = '1881'\n",
    ")"
   ]
  },
  {
   "cell_type": "markdown",
   "metadata": {},
   "source": [
    "## Content rendering\n",
    "\n",
    "The content can be converted to a number of formats using class methods:\n",
    "\n",
    "- asdict() returns a flat dictionary representation of the class's attributes.\n",
    "- asmodel() returns a tree-like JSON/XML compatible data model representation.\n",
    "- html() returns an html string."
   ]
  },
  {
   "cell_type": "code",
   "execution_count": 3,
   "metadata": {},
   "outputs": [
    {
     "name": "stdout",
     "output_type": "stream",
     "text": [
      "{'key': 'c1dc58bc-5342-47ce-95d1-92a3939fcec0', 'id': 'test_implementation', 'date': datetime.date(2019, 8, 9), 'potential': <potentials.database.Potential.Potential object at 0x7f8dd45e50b8>, 'status': 'active', 'notes': 'This is a demonstration implementation description. NOT REAL!', 'type': 'Code format', 'artifacts': [], 'parameters': [], 'weblinks': []}\n"
     ]
    }
   ],
   "source": [
    "print(imp.asdict())"
   ]
  },
  {
   "cell_type": "code",
   "execution_count": 4,
   "metadata": {},
   "outputs": [
    {
     "name": "stdout",
     "output_type": "stream",
     "text": [
      "{\n",
      "    \"interatomic-potential-implementation\": {\n",
      "        \"key\": \"c1dc58bc-5342-47ce-95d1-92a3939fcec0\", \n",
      "        \"id\": \"test_implementation\", \n",
      "        \"status\": \"active\", \n",
      "        \"date\": \"2019-08-09\", \n",
      "        \"interatomic-potential-key\": \"0dcce013-aa73-49bc-bb6d-d1ec28a31b52\", \n",
      "        \"type\": \"Code format\", \n",
      "        \"notes\": {\n",
      "            \"text\": \"This is a demonstration implementation description. NOT REAL!\"\n",
      "        }\n",
      "    }\n",
      "}\n"
     ]
    }
   ],
   "source": [
    "print(imp.asmodel().json(indent=4))"
   ]
  },
  {
   "cell_type": "code",
   "execution_count": 5,
   "metadata": {},
   "outputs": [
    {
     "data": {
      "text/html": [
       "<h3>2018--Zhou-X-W-Ward-D-K-Foster-M-E--Al-Cu-H</h3><b>Citation:</b> X.W. Zhou, D.K. Ward and M.E. Foster (2018), \"A bond-order potential for the Al–Cu–H ternary system\", <i>New Journal of Chemistry</i>, <b>42(7)</b>, 5215--5228. DOI: <a href=\"https://doi.org/10.1039/c8nj00513c\">10.1039/c8nj00513c</a><br/><b>Abstract:</b> Al-Based Al–Cu alloys have a very high strength to density ratio, and are therefore important materials for transportation systems including vehicles and aircrafts. These alloys also appear to have a high resistance to hydrogen embrittlement, and as a result, are being explored for hydrogen related applications. To enable fundamental studies of mechanical behavior of Al–Cu alloys under hydrogen environments, we have developed an Al–Cu–H bond-order potential according to the formalism implemented in the molecular dynamics code LAMMPS. Our potential not only fits well to properties of a variety of elemental and compound configurations (with coordination varying from 1 to 12) including small clusters, bulk lattices, defects, and surfaces, but also passes stringent molecular dynamics simulation tests that sample chaotic configurations. Careful studies verified that this Al–Cu–H potential predicts structural property trends close to experimental results and quantum-mechanical calculations; in addition, it properly captures Al–Cu, Al–H, and Cu–H phase diagrams and enables simulations of H2 dissociation, chemisorption, and absorption on Al–Cu surfaces.</br>\n",
       "<br/>\n",
       "<b>Code format</b> (test_implementation)<br/>\n",
       "<b>Notes:</b> This is a demonstration implementation description. NOT REAL!</br>\n"
      ],
      "text/plain": [
       "<IPython.core.display.HTML object>"
      ]
     },
     "metadata": {},
     "output_type": "display_data"
    }
   ],
   "source": [
    "# Default html will also show potential info\n",
    "display(HTML(imp.html()))"
   ]
  },
  {
   "cell_type": "code",
   "execution_count": 6,
   "metadata": {},
   "outputs": [
    {
     "data": {
      "text/html": [
       "<b>Code format</b> (test_implementation)<br/>\n",
       "<b>Notes:</b> This is a demonstration implementation description. NOT REAL!</br>\n"
      ],
      "text/plain": [
       "<IPython.core.display.HTML object>"
      ]
     },
     "metadata": {},
     "output_type": "display_data"
    }
   ],
   "source": [
    "# To only show implementation info, call html with full=False\n",
    "display(HTML(imp.html(full=False)))"
   ]
  },
  {
   "cell_type": "markdown",
   "metadata": {},
   "source": [
    "## Content saving\n",
    "\n",
    "The content can then be locally saved using the save() method"
   ]
  },
  {
   "cell_type": "code",
   "execution_count": null,
   "metadata": {},
   "outputs": [],
   "source": []
  }
 ],
 "metadata": {
  "kernelspec": {
   "display_name": "Python 3",
   "language": "python",
   "name": "python3"
  },
  "language_info": {
   "codemirror_mode": {
    "name": "ipython",
    "version": 3
   },
   "file_extension": ".py",
   "mimetype": "text/x-python",
   "name": "python",
   "nbconvert_exporter": "python",
   "pygments_lexer": "ipython3",
   "version": "3.7.3"
  }
 },
 "nbformat": 4,
 "nbformat_minor": 2
}
