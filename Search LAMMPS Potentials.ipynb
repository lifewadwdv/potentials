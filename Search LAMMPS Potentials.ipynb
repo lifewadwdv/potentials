{
 "cells": [
  {
   "cell_type": "markdown",
   "metadata": {},
   "source": [
    "# Search LAMMPS Potentials\n",
    "\n",
    "This Jupyter Notebook allows for a quick search of the database to access the metadata records for LAMMPS potentials.  For a selected potential, you will be able to\n",
    "\n",
    "1. Download the associated parameter files (if available).\n",
    "2. See what LAMMPS command lines should be used."
   ]
  },
  {
   "cell_type": "markdown",
   "metadata": {},
   "source": [
    "## Colab setup\n",
    "\n",
    "*If you are running this Notebook in colab you will need to install potentials:*\n",
    "\n",
    "1. Run the next cell to download and install the database.\n",
    "2. Restart the terminal: Runtime -> Restart runtime (ctrl+M .)\n",
    "\n",
    "Otherwise, skip to the next section."
   ]
  },
  {
   "cell_type": "code",
   "execution_count": null,
   "metadata": {},
   "outputs": [],
   "source": [
    "!pip install potentials\n",
    "\n",
    "print('RESTART TERMINAL AFTER RUNNING!!!!')\n",
    "print('Runtime -> Restart runtime')"
   ]
  },
  {
   "cell_type": "markdown",
   "metadata": {},
   "source": [
    "- - -\n",
    "\n",
    "## Import potentials package and load records"
   ]
  },
  {
   "cell_type": "code",
   "execution_count": 1,
   "metadata": {},
   "outputs": [
    {
     "name": "stdout",
     "output_type": "stream",
     "text": [
      "Loaded 299 remote LAMMPS potentials\n"
     ]
    }
   ],
   "source": [
    "import potentials\n",
    "potdb = potentials.Database(load_potential_LAMMPS=True, verbose=True)"
   ]
  },
  {
   "cell_type": "code",
   "execution_count": 2,
   "metadata": {
    "scrolled": false
   },
   "outputs": [
    {
     "data": {
      "application/vnd.jupyter.widget-view+json": {
       "model_id": "1a965f8a015a4f229413369d4374bda9",
       "version_major": 2,
       "version_minor": 0
      },
      "text/plain": [
       "Output()"
      ]
     },
     "metadata": {},
     "output_type": "display_data"
    },
    {
     "data": {
      "application/vnd.jupyter.widget-view+json": {
       "model_id": "ff762e29ad2544be8864219cc0b267cb",
       "version_major": 2,
       "version_minor": 0
      },
      "text/plain": [
       "Dropdown(description='Status:', index=1, options=('all', 'active', 'superseded', 'retracted'), value='active')"
      ]
     },
     "metadata": {},
     "output_type": "display_data"
    },
    {
     "data": {
      "application/vnd.jupyter.widget-view+json": {
       "model_id": "9c94b721c70241bcbcfea7378975d410",
       "version_major": 2,
       "version_minor": 0
      },
      "text/plain": [
       "Dropdown(description='Element1:', options=('', 'Ag', 'Al', 'As', 'Au', 'B', 'Be', 'Br', 'C', 'Cd', 'Ce', 'Cl',…"
      ]
     },
     "metadata": {},
     "output_type": "display_data"
    },
    {
     "data": {
      "application/vnd.jupyter.widget-view+json": {
       "model_id": "c0d6763216094fbcb4722c1ae84f59ab",
       "version_major": 2,
       "version_minor": 0
      },
      "text/plain": [
       "Dropdown(description='Element2:', options=('', 'Ag', 'Al', 'As', 'Au', 'B', 'Be', 'Br', 'C', 'Cd', 'Ce', 'Cl',…"
      ]
     },
     "metadata": {},
     "output_type": "display_data"
    },
    {
     "data": {
      "application/vnd.jupyter.widget-view+json": {
       "model_id": "1a99a231b4074e6385000fc7a47c3a99",
       "version_major": 2,
       "version_minor": 0
      },
      "text/plain": [
       "Dropdown(description='Element3:', options=('', 'Ag', 'Al', 'As', 'Au', 'B', 'Be', 'Br', 'C', 'Cd', 'Ce', 'Cl',…"
      ]
     },
     "metadata": {},
     "output_type": "display_data"
    },
    {
     "data": {
      "application/vnd.jupyter.widget-view+json": {
       "model_id": "2e1aa32c07864661b512e69967e2f6af",
       "version_major": 2,
       "version_minor": 0
      },
      "text/plain": [
       "Dropdown(description='Pair Style:', options=('', 'adp', 'agni', 'bop', 'comb3', 'eam', 'eam/alloy', 'eam/cd', …"
      ]
     },
     "metadata": {},
     "output_type": "display_data"
    },
    {
     "data": {
      "application/vnd.jupyter.widget-view+json": {
       "model_id": "ec5a0a11563c444695f6b812ce093e50",
       "version_major": 2,
       "version_minor": 0
      },
      "text/plain": [
       "Dropdown(description='Potential:', options=('1985--Foiles-S-M--Ni-Cu--LAMMPS--ipr1', '1985--Stillinger-F-H--Si…"
      ]
     },
     "metadata": {},
     "output_type": "display_data"
    },
    {
     "data": {
      "application/vnd.jupyter.widget-view+json": {
       "model_id": "041ebade27b943b3bf137f1c4b0b04c8",
       "version_major": 2,
       "version_minor": 0
      },
      "text/plain": [
       "Output()"
      ]
     },
     "metadata": {},
     "output_type": "display_data"
    },
    {
     "data": {
      "application/vnd.jupyter.widget-view+json": {
       "model_id": "a1dbab82eed94aafaae9ef61ef0535bf",
       "version_major": 2,
       "version_minor": 0
      },
      "text/plain": [
       "Text(value='', continuous_update=False, description='Directory:')"
      ]
     },
     "metadata": {},
     "output_type": "display_data"
    },
    {
     "data": {
      "application/vnd.jupyter.widget-view+json": {
       "model_id": "3af3b8bb31a647878a736979e68fd88d",
       "version_major": 2,
       "version_minor": 0
      },
      "text/plain": [
       "Text(value='', continuous_update=False, description='Symbols:')"
      ]
     },
     "metadata": {},
     "output_type": "display_data"
    },
    {
     "data": {
      "application/vnd.jupyter.widget-view+json": {
       "model_id": "c992982f22fb4302a6d8fbd5c02fa6b5",
       "version_major": 2,
       "version_minor": 0
      },
      "text/plain": [
       "Button(description='Download Files', style=ButtonStyle())"
      ]
     },
     "metadata": {},
     "output_type": "display_data"
    },
    {
     "data": {
      "application/vnd.jupyter.widget-view+json": {
       "model_id": "601fa84c89104b2d94c23c59cfdfc423",
       "version_major": 2,
       "version_minor": 0
      },
      "text/plain": [
       "Output()"
      ]
     },
     "metadata": {},
     "output_type": "display_data"
    },
    {
     "data": {
      "application/vnd.jupyter.widget-view+json": {
       "model_id": "f9bb42e3282b409997c85b90ddb8e0d1",
       "version_major": 2,
       "version_minor": 0
      },
      "text/plain": [
       "Output()"
      ]
     },
     "metadata": {},
     "output_type": "display_data"
    }
   ],
   "source": [
    "potdb.widget_lammps_potential()"
   ]
  },
  {
   "cell_type": "markdown",
   "metadata": {},
   "source": [
    "  "
   ]
  }
 ],
 "metadata": {
  "kernelspec": {
   "display_name": "Python 3",
   "language": "python",
   "name": "python3"
  },
  "language_info": {
   "codemirror_mode": {
    "name": "ipython",
    "version": 3
   },
   "file_extension": ".py",
   "mimetype": "text/x-python",
   "name": "python",
   "nbconvert_exporter": "python",
   "pygments_lexer": "ipython3",
   "version": "3.7.4"
  }
 },
 "nbformat": 4,
 "nbformat_minor": 2
}
