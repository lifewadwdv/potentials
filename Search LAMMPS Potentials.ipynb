{
 "cells": [
  {
   "cell_type": "markdown",
   "metadata": {},
   "source": [
    "# Search LAMMPS Potentials\n",
    "\n",
    "This Jupyter Notebook allows for a quick search of the database to access the metadata records for LAMMPS potentials.  For a selected potential, you will be able to\n",
    "\n",
    "1. Download the associated parameter files (if available).\n",
    "2. See what LAMMPS command lines should be used."
   ]
  },
  {
   "cell_type": "markdown",
   "metadata": {},
   "source": [
    "## Import potentials package and load records"
   ]
  },
  {
   "cell_type": "code",
   "execution_count": 1,
   "metadata": {},
   "outputs": [],
   "source": [
    "try:\n",
    "    # Check if potentials has been installed\n",
    "    import potentials\n",
    "except:\n",
    "    # Install if need be and print message\n",
    "    !pip install potentials\n",
    "    print('!!!!! RESTART NOTEBOOK KERNEL TO USE POTENTIALS !!!!!')"
   ]
  },
  {
   "cell_type": "code",
   "execution_count": 2,
   "metadata": {},
   "outputs": [
    {
     "name": "stdout",
     "output_type": "stream",
     "text": [
      "Loaded 273 remote LAMMPS potentials\n"
     ]
    }
   ],
   "source": [
    "potdb = potentials.Database(load=['lammps_potentials'], verbose=True)"
   ]
  },
  {
   "cell_type": "code",
   "execution_count": 3,
   "metadata": {
    "scrolled": false
   },
   "outputs": [
    {
     "data": {
      "application/vnd.jupyter.widget-view+json": {
       "model_id": "7633e62ffa494dfba0ff6fd1665fff1a",
       "version_major": 2,
       "version_minor": 0
      },
      "text/plain": [
       "Output()"
      ]
     },
     "metadata": {},
     "output_type": "display_data"
    },
    {
     "data": {
      "application/vnd.jupyter.widget-view+json": {
       "model_id": "a45772986baf4508a0c0806c8ce3a045",
       "version_major": 2,
       "version_minor": 0
      },
      "text/plain": [
       "Dropdown(description='Element1:', options=('', 'Ag', 'Al', 'As', 'Au', 'B', 'Be', 'Br', 'C', 'Cd', 'Ce', 'Cl',…"
      ]
     },
     "metadata": {},
     "output_type": "display_data"
    },
    {
     "data": {
      "application/vnd.jupyter.widget-view+json": {
       "model_id": "8d39b1b5e567407a90bddbdb04b67e87",
       "version_major": 2,
       "version_minor": 0
      },
      "text/plain": [
       "Dropdown(description='Element2:', options=('', 'Ag', 'Al', 'As', 'Au', 'B', 'Be', 'Br', 'C', 'Cd', 'Ce', 'Cl',…"
      ]
     },
     "metadata": {},
     "output_type": "display_data"
    },
    {
     "data": {
      "application/vnd.jupyter.widget-view+json": {
       "model_id": "44e5e5d5bccb4d9d824540c2156ddf60",
       "version_major": 2,
       "version_minor": 0
      },
      "text/plain": [
       "Dropdown(description='Element3:', options=('', 'Ag', 'Al', 'As', 'Au', 'B', 'Be', 'Br', 'C', 'Cd', 'Ce', 'Cl',…"
      ]
     },
     "metadata": {},
     "output_type": "display_data"
    },
    {
     "data": {
      "application/vnd.jupyter.widget-view+json": {
       "model_id": "d0af1f8ba98e46d696f555dccc2b4ab7",
       "version_major": 2,
       "version_minor": 0
      },
      "text/plain": [
       "Dropdown(description='Pair Style:', options=('', 'adp', 'agni', 'bop', 'comb3', 'eam', 'eam/alloy', 'eam/cd', …"
      ]
     },
     "metadata": {},
     "output_type": "display_data"
    },
    {
     "data": {
      "application/vnd.jupyter.widget-view+json": {
       "model_id": "cd3f5b7220b4485290d9c36795069e05",
       "version_major": 2,
       "version_minor": 0
      },
      "text/plain": [
       "Dropdown(description='Potential:', options=('1985--Foiles-S-M--Ni-Cu--LAMMPS--ipr1', '1985--Stillinger-F-H--Si…"
      ]
     },
     "metadata": {},
     "output_type": "display_data"
    },
    {
     "data": {
      "application/vnd.jupyter.widget-view+json": {
       "model_id": "d9b6e77709664070b54d5c6eff17743b",
       "version_major": 2,
       "version_minor": 0
      },
      "text/plain": [
       "Button(description='Copy Files', style=ButtonStyle())"
      ]
     },
     "metadata": {},
     "output_type": "display_data"
    },
    {
     "data": {
      "application/vnd.jupyter.widget-view+json": {
       "model_id": "6017d495b2e349128a851096d3335aad",
       "version_major": 2,
       "version_minor": 0
      },
      "text/plain": [
       "Output()"
      ]
     },
     "metadata": {},
     "output_type": "display_data"
    }
   ],
   "source": [
    "results = {}\n",
    "potdb.widget_lammps_potential(results)"
   ]
  },
  {
   "cell_type": "markdown",
   "metadata": {},
   "source": [
    "## Get the selected PotentialLAMMPS object"
   ]
  },
  {
   "cell_type": "code",
   "execution_count": 5,
   "metadata": {},
   "outputs": [
    {
     "name": "stdout",
     "output_type": "stream",
     "text": [
      "['Ag']\n",
      "mass 1 107.87\n",
      "\n",
      "pair_style eam/alloy\n",
      "pair_coeff * * Ag_Zhou04.eam.alloy Ag\n",
      "\n"
     ]
    }
   ],
   "source": [
    "lmppot = results['lammps_potential']\n",
    "\n",
    "print(lmppot.symbols)\n",
    "print(lmppot.pair_info())"
   ]
  },
  {
   "cell_type": "markdown",
   "metadata": {},
   "source": [
    "  "
   ]
  }
 ],
 "metadata": {
  "kernelspec": {
   "display_name": "Python 3",
   "language": "python",
   "name": "python3"
  },
  "language_info": {
   "codemirror_mode": {
    "name": "ipython",
    "version": 3
   },
   "file_extension": ".py",
   "mimetype": "text/x-python",
   "name": "python",
   "nbconvert_exporter": "python",
   "pygments_lexer": "ipython3",
   "version": "3.7.4"
  }
 },
 "nbformat": 4,
 "nbformat_minor": 2
}
