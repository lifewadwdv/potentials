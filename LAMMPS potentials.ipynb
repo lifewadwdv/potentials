{
 "cells": [
  {
   "cell_type": "code",
   "execution_count": 1,
   "metadata": {},
   "outputs": [],
   "source": [
    "import potentials\n"
   ]
  },
  {
   "cell_type": "code",
   "execution_count": 4,
   "metadata": {},
   "outputs": [
    {
     "name": "stdout",
     "output_type": "stream",
     "text": [
      "Multiple matching implementations found.\n",
      "1 1987--Ackland-G-J--Mo--LAMMPS--ipr1\n",
      "2 1987--Ackland-G-J--Mo--LAMMPS--ipr2\n"
     ]
    },
    {
     "name": "stdin",
     "output_type": "stream",
     "text": [
      "Enter selection: 2\n"
     ]
    }
   ],
   "source": [
    "potential = potentials.lammps.load_potential('1987--Ackland-G-J-Thetford-R--Mo')"
   ]
  },
  {
   "cell_type": "code",
   "execution_count": 5,
   "metadata": {},
   "outputs": [
    {
     "name": "stdout",
     "output_type": "stream",
     "text": [
      "mass 1 95.940000\n",
      "\n",
      "pair_style eam/alloy\n",
      "pair_coeff * * C:\\Users\\lmh1\\Documents\\Python-packages\\potentials\\data\\atomman.lammps.Potential models\\NIST IPR\\1987--Ackland-G-J--Mo--LAMMPS--ipr2\\mo.fs.eam.alloy Mo\n",
      "\n"
     ]
    }
   ],
   "source": [
    "print(potential.pair_info())"
   ]
  },
  {
   "cell_type": "code",
   "execution_count": null,
   "metadata": {},
   "outputs": [],
   "source": []
  }
 ],
 "metadata": {
  "kernelspec": {
   "display_name": "Python 3",
   "language": "python",
   "name": "python3"
  },
  "language_info": {
   "codemirror_mode": {
    "name": "ipython",
    "version": 3
   },
   "file_extension": ".py",
   "mimetype": "text/x-python",
   "name": "python",
   "nbconvert_exporter": "python",
   "pygments_lexer": "ipython3",
   "version": "3.7.3"
  }
 },
 "nbformat": 4,
 "nbformat_minor": 4
}
