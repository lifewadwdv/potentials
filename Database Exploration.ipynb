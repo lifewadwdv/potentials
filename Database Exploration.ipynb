{
 "cells": [
  {
   "cell_type": "markdown",
   "metadata": {},
   "source": [
    "# Database Exploration\n",
    "\n",
    "This notebook provides some simple demonstrations of how to search and explore the potentials database.  \n",
    "\n",
    "__NOTE:__ This is based on an early build and is for demonstration purposes.  The method will likely change as the database evolves.\n"
   ]
  },
  {
   "cell_type": "markdown",
   "metadata": {},
   "source": [
    "## Colab download and install\n",
    "\n",
    "Run this cell, then restart if you are testing this Notebook in colab."
   ]
  },
  {
   "cell_type": "code",
   "execution_count": null,
   "metadata": {},
   "outputs": [],
   "source": [
    "!git clone https://github.com/lmhale99/potentials.git\n",
    "import os\n",
    "os.chdir('potentials')\n",
    "!python setup.py develop\n",
    "\n",
    "##### RESTART TERMINAL AFTER RUNNING!!!! ######\n",
    "# Runtime -> Restart runtime (ctrl+M .)"
   ]
  },
  {
   "cell_type": "markdown",
   "metadata": {},
   "source": [
    "## Import potentials and load database"
   ]
  },
  {
   "cell_type": "code",
   "execution_count": 1,
   "metadata": {},
   "outputs": [],
   "source": [
    "# This is the potentials Package which interfaces with the database\n",
    "import potentials\n",
    "\n",
    "# This is to allow html output to be properly rendered here in the Notebook \n",
    "from IPython.core.display import display, HTML"
   ]
  },
  {
   "cell_type": "markdown",
   "metadata": {},
   "source": [
    "Initializing a Database object will load all content currently stored in potentials."
   ]
  },
  {
   "cell_type": "code",
   "execution_count": 2,
   "metadata": {},
   "outputs": [],
   "source": [
    "potdb = potentials.database.Database()"
   ]
  },
  {
   "cell_type": "markdown",
   "metadata": {},
   "source": [
    "## Search for potentials\n",
    "\n",
    "The Database.search_potentials() method currently allows for searches based on\n",
    "\n",
    "- __author__ (*str, optional*) Author string to search for.  Note that the citation info must exactly contain this field, so multiple authors not supported yet.\n",
    "\n",
    "- __year__ (*str, optional*) Publication year to search for.\n",
    "\n",
    "- __elements__ (*list, optional*) Element models to search for.  If multiple elements are listed, the results will be inclusive, i.e. any potentials with at least one of the elements will be included."
   ]
  },
  {
   "cell_type": "code",
   "execution_count": 3,
   "metadata": {},
   "outputs": [
    {
     "name": "stdout",
     "output_type": "stream",
     "text": [
      "2003--Mendelev-M-I-Han-S-Srolovitz-D-J-et-al--Fe-2\n",
      "2003--Mendelev-M-I-Han-S-Srolovitz-D-J-et-al--Fe-5\n",
      "2004--Ackland-G-J-Mendelev-M-I-Srolovitz-D-J-et-al--Fe-P\n",
      "2005--Mendelev-M-I-Srolovitz-D-J-Ackland-G-J-Han-S--Al-Fe\n",
      "2007--Mendelev-M-I-Han-S-Son-W-et-al--V-Fe\n"
     ]
    }
   ],
   "source": [
    "potentials = potdb.search_potentials(\n",
    "    #year = '2007',\n",
    "    author = 'Mendelev',\n",
    "    elements = 'Fe',\n",
    ")\n",
    "\n",
    "# Show ids for all matching potentials\n",
    "for potential in potentials:\n",
    "    print(potential.id)"
   ]
  },
  {
   "cell_type": "markdown",
   "metadata": {},
   "source": [
    "## Show metadata for the potentials"
   ]
  },
  {
   "cell_type": "code",
   "execution_count": 4,
   "metadata": {},
   "outputs": [
    {
     "data": {
      "text/html": [
       "<h3>2003--Mendelev-M-I-Han-S-Srolovitz-D-J-et-al--Fe-2</h3><b>Citation:</b> M.I. Mendelev, S. Han, D.J. Srolovitz, G.J. Ackland, D.Y. Sun and M. Asta (2003), \"Development of new interatomic potentials appropriate for crystalline and liquid iron\", <i>Philosophical Magazine</i>, <b>83(35)</b>, 3977--3994. DOI: <a href=\"https://doi.org/10.1080/14786430310001613264\">10.1080/14786430310001613264</a><br/><b>Abstract:</b> Two procedures were developed to fit interatomic potentials of the embedded-atom method (EAM) form and applied to determine a potential which describes crystalline and liquid iron. While both procedures use perfect crystal and crystal defect data, the first procedure also employs the first-principles forces in a model liquid and the second procedure uses experimental liquid structure factor data. These additional types of information were incorporated to ensure more reasonable descriptions of atomic interactions at small separations than is provided using standard approaches, such as fitting to the universal binding energy relation. The new potentials (provided herein) are, on average, in better agreement with the experimental or first-principles lattice parameter, elastic constants, point-defect energies, bcc–fcc transformation energy, liquid density, liquid structure factor, melting temperature and other properties than other existing EAM iron potentials.</br>\n",
       "<b>Notes:</b> This listing is for the reference's Fe #2 interaction parameters.</br>\n"
      ],
      "text/plain": [
       "<IPython.core.display.HTML object>"
      ]
     },
     "metadata": {},
     "output_type": "display_data"
    },
    {
     "data": {
      "text/html": [
       "<h3>2003--Mendelev-M-I-Han-S-Srolovitz-D-J-et-al--Fe-5</h3><b>Citation:</b> M.I. Mendelev, S. Han, D.J. Srolovitz, G.J. Ackland, D.Y. Sun and M. Asta (2003), \"Development of new interatomic potentials appropriate for crystalline and liquid iron\", <i>Philosophical Magazine</i>, <b>83(35)</b>, 3977--3994. DOI: <a href=\"https://doi.org/10.1080/14786430310001613264\">10.1080/14786430310001613264</a><br/><b>Abstract:</b> Two procedures were developed to fit interatomic potentials of the embedded-atom method (EAM) form and applied to determine a potential which describes crystalline and liquid iron. While both procedures use perfect crystal and crystal defect data, the first procedure also employs the first-principles forces in a model liquid and the second procedure uses experimental liquid structure factor data. These additional types of information were incorporated to ensure more reasonable descriptions of atomic interactions at small separations than is provided using standard approaches, such as fitting to the universal binding energy relation. The new potentials (provided herein) are, on average, in better agreement with the experimental or first-principles lattice parameter, elastic constants, point-defect energies, bcc–fcc transformation energy, liquid density, liquid structure factor, melting temperature and other properties than other existing EAM iron potentials.</br>\n",
       "<b>Notes:</b> This listing is for the reference's Fe #5 interaction parameters.</br>\n"
      ],
      "text/plain": [
       "<IPython.core.display.HTML object>"
      ]
     },
     "metadata": {},
     "output_type": "display_data"
    },
    {
     "data": {
      "text/html": [
       "<h3>2004--Ackland-G-J-Mendelev-M-I-Srolovitz-D-J-et-al--Fe-P</h3><b>Citation:</b> G.J. Ackland, M.I. Mendelev, D.J. Srolovitz, S. Han and A.V. Barashev (2004), \"Development of an interatomic potential for phosphorus impurities in α-iron\", <i>Journal of Physics: Condensed Matter</i>, <b>16(27)</b>, S2629--S2642. DOI: <a href=\"https://doi.org/10.1088/0953-8984/16/27/003\">10.1088/0953-8984/16/27/003</a><br/><b>Abstract:</b> We present the derivation of an interatomic potential for the iron–phosphorus system based primarily on ab initio data. Transferability in this system is extremely problematic, and the potential is intended specifically to address the problem of radiation damage and point defects in iron containing low concentrations of phosphorus atoms. Some preliminary molecular dynamics calculations show that P strongly affects point defect migration.</br>\n"
      ],
      "text/plain": [
       "<IPython.core.display.HTML object>"
      ]
     },
     "metadata": {},
     "output_type": "display_data"
    },
    {
     "data": {
      "text/html": [
       "<h3>2005--Mendelev-M-I-Srolovitz-D-J-Ackland-G-J-Han-S--Al-Fe</h3><b>Citation:</b> M.I. Mendelev, D.J. Srolovitz, G.J. Ackland and S. Han (2005), \"Effect of Fe Segregation on the Migration of a Non-Symmetric Σ5 Tilt Grain Boundary in Al\", <i>Journal of Materials Research</i>, <b>20(01)</b>, 208--218. DOI: <a href=\"https://doi.org/10.1557/jmr.2005.0024\">10.1557/jmr.2005.0024</a><br/><b>Abstract:</b> We present an analysis, based upon atomistic simulation data, of the effect of Fe impurities on grain boundary migration in Al. The first step is the development of a new interatomic potential for Fe in Al. This potential provides an accurate description of Al–Fe liquid diffraction data and the bulk diffusivity of Fe in Al. We use this potential to determine the physical parameters in the Cahn–Lücke–Stüwe (CLS) model for the effect of impurities on grain boundary mobility. These include the heat of segregation of Fe to grain boundaries in Al and the diffusivity of Fe in Al. Using the simulation-parameterized CLS model, we predict the grain boundary mobility in Al in the presence of Fe as a function of temperature and Fe concentration. The order of magnitude and the trends in the mobility from the simulations are in agreement with existing experimental results.</br>\n"
      ],
      "text/plain": [
       "<IPython.core.display.HTML object>"
      ]
     },
     "metadata": {},
     "output_type": "display_data"
    },
    {
     "data": {
      "text/html": [
       "<h3>2007--Mendelev-M-I-Han-S-Son-W-et-al--V-Fe</h3><b>Citation:</b> M.I. Mendelev, S. Han, W.- Son, G.J. Ackland and D.J. Srolovitz (2007), \"Simulation of the interaction between Fe impurities and point defects in V\", <i>Physical Review B</i>, <b>76(21)</b>, 214105. DOI: <a href=\"https://doi.org/10.1103/physrevb.76.214105\">10.1103/physrevb.76.214105</a><br/><b>Abstract:</b> We report improved results of atomistic modeling of V-Fe alloys. We introduced an electronic structure embedding approach to improve the description of the point defects in first-principles calculations, by including the semicore electrons in some V atoms (those near the interstitial where the semicore levels are broadened) but not those further from the point defect. This enables us to combine good accuracy for the defect within large supercells and to expand the data set of first-principles point defect calculations in vanadium with and without small amounts of iron. Based on these data, previous first-principles work, and new calculations on the alloy liquid, we fitted an interatomic potential for the V-Fe system which describes the important configurations likely to arise when such alloys are exposed to radiation. This potential is in a form suitable for molecular dynamics (MD) simulations of large systems. Using the potential, we have calculated the migration barriers of vacancies in the presence of iron, showing that these are broadly similar. On the other hand, MD simulations show that V self-diffusion at high temperatures and Fe diffusion are greatly enhanced by the presence of interstitials.</br>\n"
      ],
      "text/plain": [
       "<IPython.core.display.HTML object>"
      ]
     },
     "metadata": {},
     "output_type": "display_data"
    }
   ],
   "source": [
    "for potential in potentials:\n",
    "    display(HTML(potential.html()))"
   ]
  },
  {
   "cell_type": "markdown",
   "metadata": {},
   "source": [
    "## Show all implementations for a given potential"
   ]
  },
  {
   "cell_type": "code",
   "execution_count": 5,
   "metadata": {},
   "outputs": [
    {
     "data": {
      "text/html": [
       "<h3>2003--Mendelev-M-I-Han-S-Srolovitz-D-J-et-al--Fe-2</h3><b>Citation:</b> M.I. Mendelev, S. Han, D.J. Srolovitz, G.J. Ackland, D.Y. Sun and M. Asta (2003), \"Development of new interatomic potentials appropriate for crystalline and liquid iron\", <i>Philosophical Magazine</i>, <b>83(35)</b>, 3977--3994. DOI: <a href=\"https://doi.org/10.1080/14786430310001613264\">10.1080/14786430310001613264</a><br/><b>Abstract:</b> Two procedures were developed to fit interatomic potentials of the embedded-atom method (EAM) form and applied to determine a potential which describes crystalline and liquid iron. While both procedures use perfect crystal and crystal defect data, the first procedure also employs the first-principles forces in a model liquid and the second procedure uses experimental liquid structure factor data. These additional types of information were incorporated to ensure more reasonable descriptions of atomic interactions at small separations than is provided using standard approaches, such as fitting to the universal binding energy relation. The new potentials (provided herein) are, on average, in better agreement with the experimental or first-principles lattice parameter, elastic constants, point-defect energies, bcc–fcc transformation energy, liquid density, liquid structure factor, melting temperature and other properties than other existing EAM iron potentials.</br>\n",
       "<b>Notes:</b> This listing is for the reference's Fe #2 interaction parameters.</br>\n",
       "<br/>\n",
       "<b>LAMMPS pair_style eam/fs</b> (2003--Mendelev-M-I--Fe-2--LAMMPS--ipr1)<br/>\n",
       "<b>superseded</b><br/>\n",
       "<b>Notes:</b> This file was provided by Mikhail Mendelev on Jun 10, 2007.  Except for comments, this file is identical to \"Fe_mm.eam.fs\" in the August 22, 2018 LAMMPS distribution.</br>\n",
       "<b>Files:</b><br/>\n",
       "<a href=\"https://www.ctcms.nist.gov/potentials/Download/2003--Mendelev-M-I-Han-S-Srolovitz-D-J-et-al--Fe-2/1/Fe_2.eam.fs\">Fe_2.eam.fs</a><br/>\n",
       "<br/>\n",
       "<b>LAMMPS pair_style eam</b> (2003--Mendelev-M-I--Fe-2--LAMMPS--ipr2)<br/>\n",
       "<b>retracted</b><br/>\n",
       "<b>Notes:</b> Update 09 Mar 2009: The file for Fe #2 (Feb 22, 2009) was sent as a replacement for the Jun 10, 2007 file above. It better treats radial distances smaller than 0.5 A for use in radiation damage simulations. Update 22 Dec 2010: The file Fe_2.eam was removed because it was found to have an energy of 11.31356 eV/atom for bcc with a=2.855324 A. For archival purposes, the file can be found here. Thanks to Jianyang Wu for bringing this to our attention and Mikhail Mendelev for his help in sorting it out.</br>\n",
       "<b>Files:</b><br/>\n",
       "<a href=\"https://www.ctcms.nist.gov/potentials/Download/2003--Mendelev-M-I-Han-S-Srolovitz-D-J-et-al--Fe-2/2/Fe_2.eam\">Fe_2.eam</a><br/>\n",
       "<br/>\n",
       "<b>LAMMPS pair_style eam/fs</b> (2003--Mendelev-M-I--Fe-2--LAMMPS--ipr3)<br/>\n",
       "<b>Notes:</b> This file supports radial distances smaller than 0.5 A and gives the proper values of -4.1224351 eV/atom for a = 2.855324 A (LAMMPS 4Aug10). Thanks to Jianyang Wu for bringing this to our attention and Mikhail Mendelev for his help in sorting it out.</br>\n",
       "<b>Files:</b><br/>\n",
       "<a href=\"https://www.ctcms.nist.gov/potentials/Download/2003--Mendelev-M-I-Han-S-Srolovitz-D-J-et-al--Fe-2/3/Fe_2.eam.fs\">Fe_2.eam.fs</a><br/>\n",
       "<br/>\n",
       "<b>OpenKIM</b> (MO_769582363439)<br/>\n",
       "<b>Notes:</b> Taken from https://openkim.org.  This KIM potential is based on the files from 2003--Mendelev-M-I--Fe-2--LAMMPS--ipr3.</br>\n",
       "<b>Links:</b><br/>\n",
       "<a href=\"https://openkim.org/id/EAM_Dynamo_MendelevHanSrolovitz_2003Potential2_Fe__MO_769582363439_005\">EAM_Dynamo_MendelevHanSrolovitz_2003Potential2_Fe__MO_769582363439_005</a><br/>\n",
       "<br/>\n",
       "<b>OpenKIM</b> (MO_856295952425)<br/>\n",
       "<b>Notes:</b> Taken from https://openkim.org.</br>\n",
       "<b>Links:</b><br/>\n",
       "<a href=\"https://openkim.org/id/EAM_MagneticCubic_MendelevHanSrolovitz_2003_Fe__MO_856295952425_002\">EAM_MagneticCubic_MendelevHanSrolovitz_2003_Fe__MO_856295952425_002</a><br/>\n",
       "<br/>\n",
       "<b>OpenKIM</b> (MO_546673549085)<br/>\n",
       "<b>Notes:</b> Taken from https://openkim.org.  This KIM potential is based on the files from 2003--Mendelev-M-I--Fe-2--LAMMPS--ipr3.</br>\n",
       "<b>Links:</b><br/>\n",
       "<a href=\"https://openkim.org/id/EAM_Dynamo_Mendelev_2003_Fe__MO_546673549085_000\">EAM_Dynamo_Mendelev_2003_Fe__MO_546673549085_000</a><br/>\n",
       "<br/>\n",
       "<b>OpenKIM</b> (MO_807997826449)<br/>\n",
       "<b>superseded</b><br/>\n",
       "<b>Notes:</b> Taken from https://openkim.org.  This KIM potential is based on the files from 2003--Mendelev-M-I--Fe-2--LAMMPS--ipr1.</br>\n",
       "<b>Links:</b><br/>\n",
       "<a href=\"https://openkim.org/id/EAM_Dynamo_MendelevHanSrolovitz_2003_Fe__MO_807997826449_000\">EAM_Dynamo_MendelevHanSrolovitz_2003_Fe__MO_807997826449_000</a><br/>\n"
      ],
      "text/plain": [
       "<IPython.core.display.HTML object>"
      ]
     },
     "metadata": {},
     "output_type": "display_data"
    }
   ],
   "source": [
    "# Select a potential\n",
    "potential = potentials[0]\n",
    "\n",
    "# Display full HTML content for that potential\n",
    "display(HTML(potdb.full_html(potentials[0])))"
   ]
  }
 ],
 "metadata": {
  "kernelspec": {
   "display_name": "Python 3",
   "language": "python",
   "name": "python3"
  },
  "language_info": {
   "codemirror_mode": {
    "name": "ipython",
    "version": 3
   },
   "file_extension": ".py",
   "mimetype": "text/x-python",
   "name": "python",
   "nbconvert_exporter": "python",
   "pygments_lexer": "ipython3",
   "version": "3.7.3"
  }
 },
 "nbformat": 4,
 "nbformat_minor": 2
}
