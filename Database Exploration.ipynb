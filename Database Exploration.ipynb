{
 "cells": [
  {
   "cell_type": "markdown",
   "metadata": {},
   "source": [
    "# Database Exploration\n",
    "\n",
    "This Notebook outlines the Python functions that can be used to search and find potentials from the Interatomic Potentials Repository database.  \n",
    "\n",
    "This is meant to be a moderately deep guide to the search capabilities for those wishing to integrate into their own projects. If you simply want to search the content in the database, see the \"Search...\" Notebooks instead.\n"
   ]
  },
  {
   "cell_type": "markdown",
   "metadata": {},
   "source": [
    "## Colab setup\n",
    "\n",
    "*If you are running this Notebook in colab you will need to install potentials:*\n",
    "\n",
    "1. Run the next cell to download and install the database.\n",
    "2. Restart the terminal: Runtime -> Restart runtime (ctrl+M .)\n",
    "\n",
    "Otherwise, skip to the next section."
   ]
  },
  {
   "cell_type": "code",
   "execution_count": 1,
   "metadata": {},
   "outputs": [
    {
     "name": "stdout",
     "output_type": "stream",
     "text": [
      "Collecting potentials\n",
      "  Downloading https://files.pythonhosted.org/packages/bf/6e/2f0bae6dde31cbc5b1b92546c0707cd91f4df84ec75fd1880a3b1bd3653e/potentials-0.1.0-py3-none-any.whl (68kB)\n",
      "Requirement already satisfied: bibtexparser in c:\\users\\lmh1\\appdata\\local\\continuum\\anaconda3\\lib\\site-packages (from potentials) (1.1.0)\n",
      "Requirement already satisfied: DataModelDict in c:\\users\\lmh1\\documents\\python-packages\\datamodeldict (from potentials) (0.9.6)\n",
      "Requirement already satisfied: matplotlib in c:\\users\\lmh1\\appdata\\local\\continuum\\anaconda3\\lib\\site-packages (from potentials) (3.1.1)\n",
      "Requirement already satisfied: habanero in c:\\users\\lmh1\\appdata\\local\\continuum\\anaconda3\\lib\\site-packages (from potentials) (0.7.2)\n",
      "Requirement already satisfied: pandas in c:\\users\\lmh1\\appdata\\local\\continuum\\anaconda3\\lib\\site-packages (from potentials) (0.25.1)\n",
      "Requirement already satisfied: xmltodict in c:\\users\\lmh1\\appdata\\local\\continuum\\anaconda3\\lib\\site-packages\\xmltodict-0.12.0-py3.7.egg (from potentials) (0.12.0)\n",
      "Requirement already satisfied: numpy in c:\\users\\lmh1\\appdata\\local\\continuum\\anaconda3\\lib\\site-packages (from potentials) (1.16.5)\n",
      "Requirement already satisfied: cdcs in c:\\users\\lmh1\\documents\\python-packages\\pycdcs (from potentials) (0.1.1)\n",
      "Requirement already satisfied: requests in c:\\users\\lmh1\\appdata\\local\\continuum\\anaconda3\\lib\\site-packages (from potentials) (2.22.0)\n",
      "Requirement already satisfied: future>=0.16.0 in c:\\users\\lmh1\\appdata\\local\\continuum\\anaconda3\\lib\\site-packages (from bibtexparser->potentials) (0.17.1)\n",
      "Requirement already satisfied: pyparsing>=2.0.3 in c:\\users\\lmh1\\appdata\\local\\continuum\\anaconda3\\lib\\site-packages (from bibtexparser->potentials) (2.4.2)\n",
      "Requirement already satisfied: cycler>=0.10 in c:\\users\\lmh1\\appdata\\local\\continuum\\anaconda3\\lib\\site-packages (from matplotlib->potentials) (0.10.0)\n",
      "Requirement already satisfied: kiwisolver>=1.0.1 in c:\\users\\lmh1\\appdata\\local\\continuum\\anaconda3\\lib\\site-packages (from matplotlib->potentials) (1.1.0)\n",
      "Requirement already satisfied: python-dateutil>=2.1 in c:\\users\\lmh1\\appdata\\local\\continuum\\anaconda3\\lib\\site-packages (from matplotlib->potentials) (2.8.0)\n",
      "Requirement already satisfied: tqdm in c:\\users\\lmh1\\appdata\\local\\continuum\\anaconda3\\lib\\site-packages (from habanero->potentials) (4.36.1)\n",
      "Requirement already satisfied: pytz>=2017.2 in c:\\users\\lmh1\\appdata\\local\\continuum\\anaconda3\\lib\\site-packages (from pandas->potentials) (2019.3)\n",
      "Requirement already satisfied: chardet<3.1.0,>=3.0.2 in c:\\users\\lmh1\\appdata\\local\\continuum\\anaconda3\\lib\\site-packages (from requests->potentials) (3.0.4)\n",
      "Requirement already satisfied: idna<2.9,>=2.5 in c:\\users\\lmh1\\appdata\\local\\continuum\\anaconda3\\lib\\site-packages (from requests->potentials) (2.8)\n",
      "Requirement already satisfied: certifi>=2017.4.17 in c:\\users\\lmh1\\appdata\\local\\continuum\\anaconda3\\lib\\site-packages (from requests->potentials) (2019.9.11)\n",
      "Requirement already satisfied: urllib3!=1.25.0,!=1.25.1,<1.26,>=1.21.1 in c:\\users\\lmh1\\appdata\\local\\continuum\\anaconda3\\lib\\site-packages (from requests->potentials) (1.24.2)\n",
      "Requirement already satisfied: six in c:\\users\\lmh1\\appdata\\local\\continuum\\anaconda3\\lib\\site-packages (from cycler>=0.10->matplotlib->potentials) (1.12.0)\n",
      "Requirement already satisfied: setuptools in c:\\users\\lmh1\\appdata\\local\\continuum\\anaconda3\\lib\\site-packages (from kiwisolver>=1.0.1->matplotlib->potentials) (41.4.0)\n",
      "Installing collected packages: potentials\n",
      "Successfully installed potentials-0.1.0\n",
      "RESTART TERMINAL AFTER RUNNING!!!!\n",
      "Runtime -> Restart runtime\n"
     ]
    }
   ],
   "source": [
    "!pip install potentials\n",
    "\n",
    "print('RESTART TERMINAL AFTER RUNNING!!!!')\n",
    "print('Runtime -> Restart runtime')"
   ]
  },
  {
   "cell_type": "markdown",
   "metadata": {},
   "source": [
    "## 1. Import potentials initialize database"
   ]
  },
  {
   "cell_type": "markdown",
   "metadata": {},
   "source": [
    "Library imports"
   ]
  },
  {
   "cell_type": "code",
   "execution_count": 1,
   "metadata": {},
   "outputs": [],
   "source": [
    "from pathlib import Path\n",
    "\n",
    "import potentials\n",
    "\n",
    "import pandas as pd\n",
    "\n",
    "from IPython.core.display import display, HTML"
   ]
  },
  {
   "cell_type": "markdown",
   "metadata": {},
   "source": [
    "### Database initialization\n",
    "\n",
    "Initializing a potentials.Database() object without any parameters will set the default access parameters for [potentials.nist.gov](https://potentials.nist.gov) so users can search records."
   ]
  },
  {
   "cell_type": "code",
   "execution_count": 2,
   "metadata": {},
   "outputs": [],
   "source": [
    "potdb = potentials.Database()"
   ]
  },
  {
   "cell_type": "markdown",
   "metadata": {},
   "source": [
    "### Optional: Load records\n",
    "\n",
    "The records associated with one or more schemas may be loaded prior to searching by either specifying load parameters during initialization or calling load methods afterwards.  The load operations download all records of a given template from the database at once and stores the information locally in memory. Loading all records of a given schema takes a few seconds, but search operations on the loaded records are faster than searches on the remote records. Thus, depending on the intended usage, it may or may not be faster to load the records.\n",
    "\n",
    "- Simple operations, like single searches for a small number of records, are overall faster *without* loading as only the matching records will be downloaded.\n",
    "\n",
    "- Complex operations, like interactive tools with repeated search calls, will likely benefit from loading.\n",
    "\n",
    "**Note** the search methods below ideally should return the same results if records have or have not been loaded. However, the underlying query mechanisms are quite different between the two, so this is not guaranteed yet."
   ]
  },
  {
   "cell_type": "code",
   "execution_count": 3,
   "metadata": {},
   "outputs": [],
   "source": [
    "#potdb.load_potentials(verbose=True)"
   ]
  },
  {
   "cell_type": "code",
   "execution_count": 4,
   "metadata": {},
   "outputs": [],
   "source": [
    "#potdb.load_potential_LAMMPS(verbose=True)"
   ]
  },
  {
   "cell_type": "markdown",
   "metadata": {},
   "source": [
    "## 2. Potential metadata\n",
    "\n",
    "The records with the \"Potential\" schema define metadata associated with the potential, including citation information, usage notes, and a list of known implementations with files, parameter values, and/or external links.\n",
    "\n",
    "The Database.get_potentials() method will search for matching potentials based on the specified parameters.\n",
    "\n",
    "Parameters\n",
    "\n",
    "- __id__ (*str or list, optional*) Potential ID(s) to search for.  These are unique identifiers derived from the publication information and the elemental system being modeled.\n",
    "\n",
    "- __key__ (*str or list, optional*) UUID4 key(s) to search for.  Each entry has a unique random-generated UUID4 key.\n",
    "\n",
    "- __author__ (*str or list, optional*) Author string(s) to search for.\n",
    "\n",
    "- __year__ (*int or list, optional*) Publication year(s) to search for.\n",
    "\n",
    "- __element__ (*str or list, optional*) Element model(s) to search for.\n",
    "\n",
    "- __localpath__ (*str, optional*) If specified, any Potential records stored locally in localpath will be included in the search.\n",
    "\n",
    "- __verbose__ (*bool, optional*) Indicates if informative print statements will be generated during the method operation.  Default value is False.\n",
    "\n",
    "Returns\n",
    "\n",
    "- __Potentials__ (*numpy.Array*) potentials.Potential objects for all matching Potential records.\n"
   ]
  },
  {
   "cell_type": "code",
   "execution_count": 5,
   "metadata": {},
   "outputs": [
    {
     "name": "stdout",
     "output_type": "stream",
     "text": [
      "Potential 2003--Mendelev-M-I-Han-S-Srolovitz-D-J-et-al--Fe-2\n",
      "Potential 2003--Mendelev-M-I-Han-S-Srolovitz-D-J-et-al--Fe-5\n",
      "Potential 2007--Mendelev-M-I-Han-S-Son-W-et-al--V-Fe\n"
     ]
    }
   ],
   "source": [
    "pots = potdb.get_potentials(\n",
    "    year = [2003, 2007],\n",
    "    author = 'Mendelev',\n",
    "    element = 'Fe',\n",
    ")\n",
    "\n",
    "# Show potentials\n",
    "for pot in pots:\n",
    "    print(pot)"
   ]
  },
  {
   "cell_type": "markdown",
   "metadata": {},
   "source": [
    "### 2.1. Explore metadata for the potentials\n",
    "\n",
    "The search returns Potential objects that describe the metadata associated with the potentials.  This information can be accessed in a variety of ways."
   ]
  },
  {
   "cell_type": "markdown",
   "metadata": {},
   "source": [
    "#### html\n",
    "\n",
    "The Potential.html() method builds html content for the potential consistent with how the entry appears on the Interatomic Potentials Repository."
   ]
  },
  {
   "cell_type": "code",
   "execution_count": 6,
   "metadata": {},
   "outputs": [
    {
     "data": {
      "text/html": [
       "<h3>2003--Mendelev-M-I-Han-S-Srolovitz-D-J-et-al--Fe-2</h3><b>Citation:</b> M.I. Mendelev, S. Han, D.J. Srolovitz, G.J. Ackland, D.Y. Sun and M. Asta (2003), \"Development of new interatomic potentials appropriate for crystalline and liquid iron\", <i>Philosophical Magazine</i>, <b>83(35)</b>, 3977--3994. DOI: <a href=\"https://doi.org/10.1080/14786430310001613264\">10.1080/14786430310001613264</a><br/><b>Abstract:</b> Two procedures were developed to fit interatomic potentials of the embedded-atom method (EAM) form and applied to determine a potential which describes crystalline and liquid iron. While both procedures use perfect crystal and crystal defect data, the first procedure also employs the first-principles forces in a model liquid and the second procedure uses experimental liquid structure factor data. These additional types of information were incorporated to ensure more reasonable descriptions of atomic interactions at small separations than is provided using standard approaches, such as fitting to the universal binding energy relation. The new potentials (provided herein) are, on average, in better agreement with the experimental or first-principles lattice parameter, elastic constants, point-defect energies, bcc–fcc transformation energy, liquid density, liquid structure factor, melting temperature and other properties than other existing EAM iron potentials.</br>\n",
       "<b>Notes:</b> This listing is for the reference's Fe #2 interaction parameters.</br>\n",
       "</br><b>LAMMPS pair_style eam/fs</b> (2003--Mendelev-M-I--Fe-2--LAMMPS--ipr1)<br/>\n",
       "<b>superseded</b><br/>\n",
       "<b>Notes:</b> This file was provided by Mikhail Mendelev on Jun 10, 2007.  Except for comments, this file is identical to \"Fe_mm.eam.fs\" in the August 22, 2018 LAMMPS distribution.</br>\n",
       "<b>Files:</b><br/>\n",
       "<a href=\"https://www.ctcms.nist.gov/potentials/Download/2003--Mendelev-M-I-Han-S-Srolovitz-D-J-et-al--Fe-2/1/Fe_2.eam.fs\">Fe_2.eam.fs</a><br/>\n",
       "</br><b>LAMMPS pair_style eam</b> (2003--Mendelev-M-I--Fe-2--LAMMPS--ipr2)<br/>\n",
       "<b>retracted</b><br/>\n",
       "<b>Notes:</b> Update 09 Mar 2009: The file for Fe #2 (Feb 22, 2009) was sent as a replacement for the Jun 10, 2007 file above. It better treats radial distances smaller than 0.5 A for use in radiation damage simulations. Update 22 Dec 2010: The file Fe_2.eam was removed because it was found to have an energy of 11.31356 eV/atom for bcc with a=2.855324 A. For archival purposes, the file can be found here. Thanks to Jianyang Wu for bringing this to our attention and Mikhail Mendelev for his help in sorting it out.</br>\n",
       "<b>Files:</b><br/>\n",
       "<a href=\"https://www.ctcms.nist.gov/potentials/Download/2003--Mendelev-M-I-Han-S-Srolovitz-D-J-et-al--Fe-2/2/Fe_2.eam\">Fe_2.eam</a><br/>\n",
       "</br><b>LAMMPS pair_style eam/fs</b> (2003--Mendelev-M-I--Fe-2--LAMMPS--ipr3)<br/>\n",
       "<b>Notes:</b> This file supports radial distances smaller than 0.5 A and gives the proper values of -4.1224351 eV/atom for a = 2.855324 A (LAMMPS 4Aug10). Thanks to Jianyang Wu for bringing this to our attention and Mikhail Mendelev for his help in sorting it out.</br>\n",
       "<b>Files:</b><br/>\n",
       "<a href=\"https://www.ctcms.nist.gov/potentials/Download/2003--Mendelev-M-I-Han-S-Srolovitz-D-J-et-al--Fe-2/3/Fe_2.eam.fs\">Fe_2.eam.fs</a><br/>\n"
      ],
      "text/plain": [
       "<IPython.core.display.HTML object>"
      ]
     },
     "metadata": {},
     "output_type": "display_data"
    }
   ],
   "source": [
    "potential = pots[0]\n",
    "display(HTML(potential.html()))"
   ]
  },
  {
   "cell_type": "markdown",
   "metadata": {},
   "source": [
    "#### asdict\n",
    "\n",
    "The Potential.asdict() method builds a dictionary of the terms used by the Potential object."
   ]
  },
  {
   "cell_type": "code",
   "execution_count": 7,
   "metadata": {},
   "outputs": [
    {
     "data": {
      "text/plain": [
       "{'key': '06bf7ccd-ea6a-4744-bfbc-adefa5bcdd60',\n",
       " 'id': '2003--Mendelev-M-I-Han-S-Srolovitz-D-J-et-al--Fe-2',\n",
       " 'recorddate': datetime.date(2018, 8, 15),\n",
       " 'notes': \"This listing is for the reference's Fe #2 interaction parameters.\",\n",
       " 'fictional': False,\n",
       " 'elements': ['Fe'],\n",
       " 'othername': None,\n",
       " 'modelname': '2',\n",
       " 'citations': [<potentials.Citation.Citation at 0x19135fd1f08>],\n",
       " 'implementations': [<potentials.Implementation.Implementation at 0x19136e7c6c8>,\n",
       "  <potentials.Implementation.Implementation at 0x19136eca2c8>,\n",
       "  <potentials.Implementation.Implementation at 0x19136eca348>]}"
      ]
     },
     "execution_count": 7,
     "metadata": {},
     "output_type": "execute_result"
    }
   ],
   "source": [
    "potential.asdict()"
   ]
  },
  {
   "cell_type": "markdown",
   "metadata": {},
   "source": [
    "The asdict() method is also useful for building DataFrame objects for comparing multiple records."
   ]
  },
  {
   "cell_type": "code",
   "execution_count": 8,
   "metadata": {},
   "outputs": [
    {
     "data": {
      "text/html": [
       "<div>\n",
       "<style scoped>\n",
       "    .dataframe tbody tr th:only-of-type {\n",
       "        vertical-align: middle;\n",
       "    }\n",
       "\n",
       "    .dataframe tbody tr th {\n",
       "        vertical-align: top;\n",
       "    }\n",
       "\n",
       "    .dataframe thead th {\n",
       "        text-align: right;\n",
       "    }\n",
       "</style>\n",
       "<table border=\"1\" class=\"dataframe\">\n",
       "  <thead>\n",
       "    <tr style=\"text-align: right;\">\n",
       "      <th></th>\n",
       "      <th>key</th>\n",
       "      <th>id</th>\n",
       "      <th>recorddate</th>\n",
       "      <th>notes</th>\n",
       "      <th>fictional</th>\n",
       "      <th>elements</th>\n",
       "      <th>othername</th>\n",
       "      <th>modelname</th>\n",
       "      <th>citations</th>\n",
       "      <th>implementations</th>\n",
       "    </tr>\n",
       "  </thead>\n",
       "  <tbody>\n",
       "    <tr>\n",
       "      <td>0</td>\n",
       "      <td>06bf7ccd-ea6a-4744-bfbc-adefa5bcdd60</td>\n",
       "      <td>2003--Mendelev-M-I-Han-S-Srolovitz-D-J-et-al--...</td>\n",
       "      <td>2018-08-15</td>\n",
       "      <td>This listing is for the reference's Fe #2 inte...</td>\n",
       "      <td>False</td>\n",
       "      <td>[Fe]</td>\n",
       "      <td>None</td>\n",
       "      <td>2</td>\n",
       "      <td>[&lt;potentials.Citation.Citation object at 0x000...</td>\n",
       "      <td>[&lt;potentials.Implementation.Implementation obj...</td>\n",
       "    </tr>\n",
       "    <tr>\n",
       "      <td>1</td>\n",
       "      <td>3e8333b6-bc3a-470e-99cc-abb8a422403e</td>\n",
       "      <td>2003--Mendelev-M-I-Han-S-Srolovitz-D-J-et-al--...</td>\n",
       "      <td>2018-08-15</td>\n",
       "      <td>This listing is for the reference's Fe #5 inte...</td>\n",
       "      <td>False</td>\n",
       "      <td>[Fe]</td>\n",
       "      <td>None</td>\n",
       "      <td>5</td>\n",
       "      <td>[&lt;potentials.Citation.Citation object at 0x000...</td>\n",
       "      <td>[&lt;potentials.Implementation.Implementation obj...</td>\n",
       "    </tr>\n",
       "    <tr>\n",
       "      <td>2</td>\n",
       "      <td>6b558c94-3b96-4bc1-840f-48521e8770b6</td>\n",
       "      <td>2007--Mendelev-M-I-Han-S-Son-W-et-al--V-Fe</td>\n",
       "      <td>2018-08-15</td>\n",
       "      <td>None</td>\n",
       "      <td>False</td>\n",
       "      <td>[V, Fe]</td>\n",
       "      <td>None</td>\n",
       "      <td>None</td>\n",
       "      <td>[&lt;potentials.Citation.Citation object at 0x000...</td>\n",
       "      <td>[&lt;potentials.Implementation.Implementation obj...</td>\n",
       "    </tr>\n",
       "  </tbody>\n",
       "</table>\n",
       "</div>"
      ],
      "text/plain": [
       "                                    key  \\\n",
       "0  06bf7ccd-ea6a-4744-bfbc-adefa5bcdd60   \n",
       "1  3e8333b6-bc3a-470e-99cc-abb8a422403e   \n",
       "2  6b558c94-3b96-4bc1-840f-48521e8770b6   \n",
       "\n",
       "                                                  id  recorddate  \\\n",
       "0  2003--Mendelev-M-I-Han-S-Srolovitz-D-J-et-al--...  2018-08-15   \n",
       "1  2003--Mendelev-M-I-Han-S-Srolovitz-D-J-et-al--...  2018-08-15   \n",
       "2         2007--Mendelev-M-I-Han-S-Son-W-et-al--V-Fe  2018-08-15   \n",
       "\n",
       "                                               notes  fictional elements  \\\n",
       "0  This listing is for the reference's Fe #2 inte...      False     [Fe]   \n",
       "1  This listing is for the reference's Fe #5 inte...      False     [Fe]   \n",
       "2                                               None      False  [V, Fe]   \n",
       "\n",
       "  othername modelname                                          citations  \\\n",
       "0      None         2  [<potentials.Citation.Citation object at 0x000...   \n",
       "1      None         5  [<potentials.Citation.Citation object at 0x000...   \n",
       "2      None      None  [<potentials.Citation.Citation object at 0x000...   \n",
       "\n",
       "                                     implementations  \n",
       "0  [<potentials.Implementation.Implementation obj...  \n",
       "1  [<potentials.Implementation.Implementation obj...  \n",
       "2  [<potentials.Implementation.Implementation obj...  "
      ]
     },
     "execution_count": 8,
     "metadata": {},
     "output_type": "execute_result"
    }
   ],
   "source": [
    "df = []\n",
    "for pot in pots:\n",
    "    df.append(pot.asdict())\n",
    "df = pd.DataFrame(df)\n",
    "df"
   ]
  },
  {
   "cell_type": "markdown",
   "metadata": {},
   "source": [
    "## 3. LAMMPS Potential Implementations\n",
    "\n",
    "### 3.1. Search LAMMPS Potentials\n",
    "\n",
    "You can also search the potential implementations that work in LAMMPS with the Database.get_potential_LAMMPS() method.\n",
    "\n",
    "Parameters\n",
    "\n",
    "- __id__ (*str or list, optional*) LAMMPS potential ID(s) to search for. These are unique for each version of a potential.\n",
    "\n",
    "- __key__ (*str or list, optional*) LAMMPS potential UUID4 key(s) to search for.  This should match the key for one of the Potential records.\n",
    "\n",
    "- __potid__ (*str or list, optional*) Potential ID(s) to search for.  These are unique identifiers derived from the publication information and the elemental system being modeled. This should match the id for one of the Potential records.\n",
    "\n",
    "- __potkey__ (*str or list, optional*) Potential UUID4 key(s) to search for.  This should match the key for one of the Potential records.\n",
    "\n",
    "- __status__ (*str or None, optional*) Implementation status ('active', 'superceded', retracted') to limit search by.  If None is given, then all LAMMPS potential versions will be explored.  Default value is 'active', i.e. only the current versions.\n",
    "\n",
    "- __pair_style__ (*str or list, optional*) LAMMPS pair style(s) to limit search by.\n",
    "\n",
    "- __element__ (*str or list, optional*) Elements modeled by the potential to limit search by.\n",
    "\n",
    "- __symbol__ (*str or list, optional*) Model symbols defined by the potential to limit search by.\n",
    "\n",
    "- __verbose__ (*bool, optional*) Indicates if informative print statements will be generated during the method operation.  Default value is False.\n",
    "\n",
    "Returns\n",
    "\n",
    "- __lammps_potentials__ (*list*) PotentialLAMMPS objects."
   ]
  },
  {
   "cell_type": "markdown",
   "metadata": {},
   "source": [
    "Get active lammps potentials associated with the potentials found above"
   ]
  },
  {
   "cell_type": "code",
   "execution_count": 9,
   "metadata": {},
   "outputs": [
    {
     "name": "stdout",
     "output_type": "stream",
     "text": [
      "2003--Mendelev-M-I--Fe-2--LAMMPS--ipr3\n",
      "2003--Mendelev-M-I--Fe-5--LAMMPS--ipr1\n",
      "2007--Mendelev-M-I--V-Fe--LAMMPS--ipr1\n"
     ]
    }
   ],
   "source": [
    "potkeys = []\n",
    "for pot in pots:\n",
    "    potkeys.append(pot.key)\n",
    "    \n",
    "lmppots = potdb.get_potential_LAMMPS(\n",
    "    potkey = potkeys\n",
    ")\n",
    "\n",
    "# Show potentials\n",
    "for lmppot in lmppots:\n",
    "    print(lmppot)"
   ]
  },
  {
   "cell_type": "markdown",
   "metadata": {},
   "source": [
    "Get all lammps potentials associated with the first potential found above"
   ]
  },
  {
   "cell_type": "code",
   "execution_count": 10,
   "metadata": {},
   "outputs": [
    {
     "name": "stdout",
     "output_type": "stream",
     "text": [
      "2003--Mendelev-M-I--Fe-2--LAMMPS--ipr1\n",
      "2003--Mendelev-M-I--Fe-2--LAMMPS--ipr2\n",
      "2003--Mendelev-M-I--Fe-2--LAMMPS--ipr3\n"
     ]
    }
   ],
   "source": [
    "lmppots = potdb.get_potential_LAMMPS(\n",
    "    potkey = pots[0].key,\n",
    "    status = None\n",
    ")\n",
    "\n",
    "# Show potentials\n",
    "for lmppot in lmppots:\n",
    "    print(lmppot)"
   ]
  },
  {
   "cell_type": "code",
   "execution_count": 11,
   "metadata": {},
   "outputs": [
    {
     "name": "stdout",
     "output_type": "stream",
     "text": [
      "2016--Zhou-X-W--Al-Cu--LAMMPS--ipr1\n",
      "2016--Zhou-X-W--Al-Cu--LAMMPS--ipr2\n",
      "2018--Zhou-X-W--Al-Cu-H--LAMMPS--ipr1\n"
     ]
    }
   ],
   "source": [
    "# Get active lammps potentials with the bop pair_style and elements Al and CU\n",
    "lmppots = potdb.get_potential_LAMMPS(\n",
    "    pair_style='bop',\n",
    "    element=['Al', 'Cu']\n",
    ")\n",
    "\n",
    "# Show potentials\n",
    "for lmppot in lmppots:\n",
    "    print(lmppot)"
   ]
  },
  {
   "cell_type": "markdown",
   "metadata": {},
   "source": [
    "### 3.2 Download parameter files\n",
    "\n",
    "The parameter files associated with LAMMPS potentials can be downloaded using the Database.download_LAMMPS_files() method.\n",
    "\n",
    "Parameters\n",
    "\n",
    "- __potential_LAMMPS__ (*PotentialLAMMPS or list*) The LAMMPS potential(s) to download paramter files for.\n",
    "\n",
    "- __targetdir__ (*str, optional*) The root directory where all parameter files are to be saved. Default value is the current working directory.\n",
    "\n",
    "To avoid naming conflicts, the downloaded files will be saved in subdirectories matching the id for each potential LAMMPS object.\n"
   ]
  },
  {
   "cell_type": "markdown",
   "metadata": {},
   "source": [
    "Download the parameter files for the bop potentials identified above"
   ]
  },
  {
   "cell_type": "code",
   "execution_count": 12,
   "metadata": {},
   "outputs": [],
   "source": [
    "potdb.download_LAMMPS_files(lmppots, targetdir='testdir')"
   ]
  },
  {
   "cell_type": "markdown",
   "metadata": {},
   "source": [
    "Show the names of the downloaded files"
   ]
  },
  {
   "cell_type": "code",
   "execution_count": 13,
   "metadata": {},
   "outputs": [
    {
     "name": "stdout",
     "output_type": "stream",
     "text": [
      "testdir\\2016--Zhou-X-W--Al-Cu--LAMMPS--ipr1\\AlCu.bop.table\n",
      "testdir\\2016--Zhou-X-W--Al-Cu--LAMMPS--ipr2\\AlCu.bop.table\n",
      "testdir\\2018--Zhou-X-W--Al-Cu-H--LAMMPS--ipr1\\AlCuH_Dec3.t\n"
     ]
    }
   ],
   "source": [
    "for paramfile in Path('testdir').glob('*/*'):\n",
    "    print(paramfile)"
   ]
  },
  {
   "cell_type": "markdown",
   "metadata": {},
   "source": [
    "### 3.3 Generate LAMMPS input commands\n",
    "\n",
    "The PotentialLAMMPS objects returned by get_potential_LAMMPS can be used to generate LAMMPS commands."
   ]
  },
  {
   "cell_type": "markdown",
   "metadata": {},
   "source": [
    "The PotentialLAMMPS.pair_info() method will dynamically generate LAMMPS command lines for the potential based on the atom type symbols used."
   ]
  },
  {
   "cell_type": "code",
   "execution_count": 14,
   "metadata": {},
   "outputs": [
    {
     "name": "stdout",
     "output_type": "stream",
     "text": [
      "['Al', 'Cu']\n"
     ]
    }
   ],
   "source": [
    "lmppot = lmppots[0]\n",
    "print(lmppot.symbols)"
   ]
  },
  {
   "cell_type": "code",
   "execution_count": 15,
   "metadata": {},
   "outputs": [
    {
     "name": "stdout",
     "output_type": "stream",
     "text": [
      "mass 1 26.98\n",
      "mass 2 26.98\n",
      "mass 3 63.55\n",
      "\n",
      "pair_style bop\n",
      "pair_coeff * * AlCu.bop.table Al Al Cu\n",
      "comm_modify cutoff 14.7\n",
      "\n"
     ]
    }
   ],
   "source": [
    "print(lmppot.pair_info(['Al', 'Al', 'Cu']))"
   ]
  },
  {
   "cell_type": "markdown",
   "metadata": {},
   "source": [
    "If you downloaded files as above, you can set the path to the parameter files as well using the PotentialLAMMPS.pot_dir property."
   ]
  },
  {
   "cell_type": "code",
   "execution_count": 16,
   "metadata": {},
   "outputs": [
    {
     "name": "stdout",
     "output_type": "stream",
     "text": [
      "mass 1 63.55\n",
      "mass 2 26.98\n",
      "\n",
      "pair_style bop\n",
      "pair_coeff * * testdir\\2016--Zhou-X-W--Al-Cu--LAMMPS--ipr1\\AlCu.bop.table Cu Al\n",
      "comm_modify cutoff 14.7\n",
      "\n"
     ]
    }
   ],
   "source": [
    "lmppot.pot_dir = Path('testdir', lmppot.id)\n",
    "\n",
    "print(lmppot.pair_info(['Cu', 'Al']))"
   ]
  },
  {
   "cell_type": "markdown",
   "metadata": {},
   "source": [
    "## 4. Custom searches\n",
    "\n",
    "The Database class also provides access to the underlying tools used to perform the database searches.\n",
    "\n",
    "- __Database.cdcs__ accesses the cdcs.CDCS API client allowing for custom-built queries and rest calls to be constructed.\n",
    "\n",
    "- __Database.potentials__ if load_potentials() is called, this is a numpy array containing all the loaded Potential objects.\n",
    "\n",
    "- __Database.potentials_df__ if load_potentials() is called, this is a pandas.DataFrame constructed from all the loaded Potentials' asdict() representations.\n",
    "\n",
    "- __Database.potential_LAMMPS__ if load_potential_LAMMPS() is called, this is a numpy array containing all the loaded PotentialLAMMPS objects.\n",
    "\n",
    "- __Database.potential_LAMMPS_df__ if load_potential_LAMMPS() is called, this is a pandas.DataFrame constructed from all the loaded PotentialLAMMPS' asdict() representations. "
   ]
  },
  {
   "cell_type": "markdown",
   "metadata": {},
   "source": [
    "File cleanup"
   ]
  },
  {
   "cell_type": "code",
   "execution_count": 18,
   "metadata": {},
   "outputs": [],
   "source": [
    "import shutil\n",
    "shutil.rmtree('testdir')"
   ]
  },
  {
   "cell_type": "markdown",
   "metadata": {},
   "source": [
    "  "
   ]
  }
 ],
 "metadata": {
  "kernelspec": {
   "display_name": "Python 3",
   "language": "python",
   "name": "python3"
  },
  "language_info": {
   "codemirror_mode": {
    "name": "ipython",
    "version": 3
   },
   "file_extension": ".py",
   "mimetype": "text/x-python",
   "name": "python",
   "nbconvert_exporter": "python",
   "pygments_lexer": "ipython3",
   "version": "3.7.4"
  }
 },
 "nbformat": 4,
 "nbformat_minor": 4
}
