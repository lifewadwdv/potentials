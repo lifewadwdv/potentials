{
 "cells": [
  {
   "cell_type": "markdown",
   "metadata": {},
   "source": [
    "# Introduction\n",
    "\n",
    "A citation associated with an interatomic potential can be loaded and modified using the potentials.Citation class.\n",
    "\n",
    "Quick overview:\n",
    "\n",
    "1. When a Citation is initialized, it will fetch the bibtex information for a given DOI.  This will first check the local data/bibtex folder for a matching entry.  If not found locally, will download from CrossRef.\n",
    "\n",
    "2. Citation.html shows the formatted citation as html for quick review.  Check that symbols and accented letters are displaying correctly.\n",
    "\n",
    "3. The bibtex fields can be accessed and modified from the Citation.content dict.  Here, any issues seen can be corrected and additional fields added.  Replace any incorrectly displayed symbols with the correct unicode representations as this is compatible with Python and html.\n",
    "\n",
    "4. Citation.save() will save the modified/downloaded content locally to the data/bibtex folder."
   ]
  },
  {
   "cell_type": "code",
   "execution_count": 1,
   "metadata": {},
   "outputs": [],
   "source": [
    "from IPython.core.display import display, HTML\n",
    "from potentials.database import Citation"
   ]
  },
  {
   "cell_type": "markdown",
   "metadata": {},
   "source": [
    "## 1. Load citation"
   ]
  },
  {
   "cell_type": "code",
   "execution_count": 2,
   "metadata": {},
   "outputs": [
    {
     "name": "stdout",
     "output_type": "stream",
     "text": [
      "bibtex downloaded from CrossRef\n"
     ]
    }
   ],
   "source": [
    "# This doi is for Crossref's dummy testing article (fictional author, title, paper...) \n",
    "citation = Citation('10.5555/12345678')"
   ]
  },
  {
   "cell_type": "markdown",
   "metadata": {},
   "source": [
    "## 2. Render as html"
   ]
  },
  {
   "cell_type": "code",
   "execution_count": 3,
   "metadata": {},
   "outputs": [
    {
     "data": {
      "text/html": [
       "J. Carberry (2008), \"Toward a Unified Theory of High-Energy Metaphysics: Silly String Theory\", <i>Journal of Psychoceramics</i>, <b>5(11)</b>, 1--3. DOI: <a href=\"https://doi.org/10.5555/12345678\">10.5555/12345678</a>"
      ],
      "text/plain": [
       "<IPython.core.display.HTML object>"
      ]
     },
     "metadata": {},
     "output_type": "display_data"
    }
   ],
   "source": [
    "display(HTML(citation.html))"
   ]
  },
  {
   "cell_type": "markdown",
   "metadata": {},
   "source": [
    "## 3. View and modify content fields"
   ]
  },
  {
   "cell_type": "markdown",
   "metadata": {},
   "source": [
    "View content fields"
   ]
  },
  {
   "cell_type": "code",
   "execution_count": 4,
   "metadata": {},
   "outputs": [
    {
     "name": "stdout",
     "output_type": "stream",
     "text": [
      "{'journal': 'Journal of Psychoceramics', 'title': 'Toward a Unified Theory of High-Energy Metaphysics: Silly String Theory', 'author': 'Josiah Carberry', 'pages': '1--3', 'number': '11', 'volume': '5', 'publisher': 'Society of Psychoceramics', 'month': 'aug', 'year': '2008', 'url': 'https://doi.org/10.5555%2F12345678', 'doi': '10.5555/12345678', 'ENTRYTYPE': 'article', 'ID': 'Carberry_2008'}\n"
     ]
    }
   ],
   "source": [
    "print(citation.content)"
   ]
  },
  {
   "cell_type": "markdown",
   "metadata": {},
   "source": [
    "Modify content fields"
   ]
  },
  {
   "cell_type": "code",
   "execution_count": 5,
   "metadata": {},
   "outputs": [],
   "source": [
    "citation.content['abstract'] = ' '.join(['The characteristic theme of the works of Stone is the bridge between culture and',\n",
    "                                         'society. Several narratives concerning the fatal !aw, and subsequent dialectic, of',\n",
    "                                         'semioticist class may be found.  Thus, Debord uses the term ‘the subtextual',\n",
    "                                         'paradigm of consensus’ to denote a cultural paradox. The subject is interpolated',\n",
    "                                         'into a neocultural discourse that includes sexuality as a totality.  But Marx’s',\n",
    "                                         'critique of prepatriarchialist nihilism states that consciousness is capable of',\n",
    "                                         'significance. The main theme of Dietrich’s[1]model of cultural discourse is not',\n",
    "                                         'construction, but neoconstruction.  Thus, any number of narratives concerning the',\n",
    "                                         'textual paradigm of narrative exist. Pretextual cultural theory suggests that',\n",
    "                                         'context must come from the collective unconscious.'])"
   ]
  },
  {
   "cell_type": "markdown",
   "metadata": {},
   "source": [
    "Render modified content as html"
   ]
  },
  {
   "cell_type": "code",
   "execution_count": 6,
   "metadata": {},
   "outputs": [
    {
     "data": {
      "text/html": [
       "J. Carberry (2008), \"Toward a Unified Theory of High-Energy Metaphysics: Silly String Theory\", <i>Journal of Psychoceramics</i>, <b>5(11)</b>, 1--3. DOI: <a href=\"https://doi.org/10.5555/12345678\">10.5555/12345678</a><br/>Abstract: The characteristic theme of the works of Stone is the bridge between culture and society. Several narratives concerning the fatal !aw, and subsequent dialectic, of semioticist class may be found.  Thus, Debord uses the term ‘the subtextual paradigm of consensus’ to denote a cultural paradox. The subject is interpolated into a neocultural discourse that includes sexuality as a totality.  But Marx’s critique of prepatriarchialist nihilism states that consciousness is capable of significance. The main theme of Dietrich’s[1]model of cultural discourse is not construction, but neoconstruction.  Thus, any number of narratives concerning the textual paradigm of narrative exist. Pretextual cultural theory suggests that context must come from the collective unconscious."
      ],
      "text/plain": [
       "<IPython.core.display.HTML object>"
      ]
     },
     "metadata": {},
     "output_type": "display_data"
    }
   ],
   "source": [
    "display(HTML(citation.html))"
   ]
  },
  {
   "cell_type": "markdown",
   "metadata": {},
   "source": [
    "## 4. Save new/modified content locally"
   ]
  },
  {
   "cell_type": "code",
   "execution_count": 7,
   "metadata": {},
   "outputs": [],
   "source": [
    "citation.save()"
   ]
  },
  {
   "cell_type": "markdown",
   "metadata": {},
   "source": [
    "Reload and render again to show content was updated"
   ]
  },
  {
   "cell_type": "code",
   "execution_count": 8,
   "metadata": {},
   "outputs": [
    {
     "name": "stdout",
     "output_type": "stream",
     "text": [
      "bibtex loaded from localdir\n"
     ]
    },
    {
     "data": {
      "text/html": [
       "J. Carberry (2008), \"Toward a Unified Theory of High-Energy Metaphysics: Silly String Theory\", <i>Journal of Psychoceramics</i>, <b>5(11)</b>, 1--3. DOI: <a href=\"https://doi.org/10.5555/12345678\">10.5555/12345678</a><br/>Abstract: The characteristic theme of the works of Stone is the bridge between culture and society. Several narratives concerning the fatal !aw, and subsequent dialectic, of semioticist class may be found.  Thus, Debord uses the term ‘the subtextual paradigm of consensus’ to denote a cultural paradox. The subject is interpolated into a neocultural discourse that includes sexuality as a totality.  But Marx’s critique of prepatriarchialist nihilism states that consciousness is capable of significance. The main theme of Dietrich’s[1]model of cultural discourse is not construction, but neoconstruction.  Thus, any number of narratives concerning the textual paradigm of narrative exist. Pretextual cultural theory suggests that context must come from the collective unconscious."
      ],
      "text/plain": [
       "<IPython.core.display.HTML object>"
      ]
     },
     "metadata": {},
     "output_type": "display_data"
    }
   ],
   "source": [
    "citation = Citation('10.5555/12345678')\n",
    "display(HTML(citation.html))"
   ]
  },
  {
   "cell_type": "markdown",
   "metadata": {},
   "source": [
    "**delete dummy record**"
   ]
  },
  {
   "cell_type": "code",
   "execution_count": 12,
   "metadata": {},
   "outputs": [],
   "source": [
    "from pathlib import Path\n",
    "Path('data', 'bibtex', u'10.5555_12345678.bib').unlink()"
   ]
  }
 ],
 "metadata": {
  "kernelspec": {
   "display_name": "Python 3",
   "language": "python",
   "name": "python3"
  },
  "language_info": {
   "codemirror_mode": {
    "name": "ipython",
    "version": 3
   },
   "file_extension": ".py",
   "mimetype": "text/x-python",
   "name": "python",
   "nbconvert_exporter": "python",
   "pygments_lexer": "ipython3",
   "version": "3.7.3"
  }
 },
 "nbformat": 4,
 "nbformat_minor": 2
}
